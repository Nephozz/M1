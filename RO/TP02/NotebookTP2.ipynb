{
 "cells": [
  {
   "cell_type": "markdown",
   "metadata": {},
   "source": [
    "# TP 2 : Branch-and-bound applied to a knapsack problem"
   ]
  },
  {
   "cell_type": "markdown",
   "metadata": {},
   "source": [
    "### Initialisation (à faire une seule fois)"
   ]
  },
  {
   "cell_type": "code",
   "execution_count": 1,
   "metadata": {},
   "outputs": [
    {
     "name": "stderr",
     "output_type": "stream",
     "text": [
      "\u001b[32m\u001b[1m    Updating\u001b[22m\u001b[39m registry at `~/.julia/registries/General.toml`\n"
     ]
    },
    {
     "name": "stderr",
     "output_type": "stream",
     "text": [
      "\u001b[32m\u001b[1m   Resolving\u001b[22m\u001b[39m package versions...\n"
     ]
    },
    {
     "name": "stderr",
     "output_type": "stream",
     "text": [
      "\u001b[32m\u001b[1m   Installed\u001b[22m\u001b[39m OffsetArrays ──────────────── v1.12.10\n",
      "\u001b[32m\u001b[1m   Installed\u001b[22m\u001b[39m EarCut_jll ────────────────── v2.2.4+0\n"
     ]
    },
    {
     "name": "stderr",
     "output_type": "stream",
     "text": [
      "\u001b[32m\u001b[1m   Installed\u001b[22m\u001b[39m NetworkLayout ─────────────── v0.4.6\n",
      "\u001b[32m\u001b[1m   Installed\u001b[22m\u001b[39m StaticArraysCore ──────────── v1.4.2\n",
      "\u001b[32m\u001b[1m   Installed\u001b[22m\u001b[39m ArnoldiMethod ─────────────── v0.2.0\n",
      "\u001b[32m\u001b[1m   Installed\u001b[22m\u001b[39m Ratios ────────────────────── v0.4.5\n"
     ]
    },
    {
     "name": "stderr",
     "output_type": "stream",
     "text": [
      "\u001b[32m\u001b[1m   Installed\u001b[22m\u001b[39m StaticArrays ──────────────── v1.7.0\n",
      "\u001b[32m\u001b[1m   Installed\u001b[22m\u001b[39m libpng_jll ────────────────── v1.6.38+1\n",
      "\u001b[32m\u001b[1m   Installed\u001b[22m\u001b[39m GraphRecipes ──────────────── v0.5.12\n",
      "\u001b[32m\u001b[1m   Installed\u001b[22m\u001b[39m TableTraits ───────────────── v1.0.1\n",
      "\u001b[32m\u001b[1m   Installed\u001b[22m\u001b[39m Inflate ───────────────────── v0.1.4\n",
      "\u001b[32m\u001b[1m   Installed\u001b[22m\u001b[39m GeometryTypes ─────────────── v0.8.5\n",
      "\u001b[32m\u001b[1m   Installed\u001b[22m\u001b[39m Extents ───────────────────── v0.1.2\n",
      "\u001b[32m\u001b[1m   Installed\u001b[22m\u001b[39m Graphs ────────────────────── v1.9.0\n",
      "\u001b[32m\u001b[1m   Installed\u001b[22m\u001b[39m DataValueInterfaces ───────── v1.0.0\n",
      "\u001b[32m\u001b[1m   Installed\u001b[22m\u001b[39m AbstractTrees ─────────────── v0.4.4\n"
     ]
    },
    {
     "name": "stderr",
     "output_type": "stream",
     "text": [
      "\u001b[32m\u001b[1m   Installed\u001b[22m\u001b[39m SimpleTraits ──────────────── v0.9.4\n"
     ]
    },
    {
     "name": "stderr",
     "output_type": "stream",
     "text": [
      "\u001b[32m\u001b[1m   Installed\u001b[22m\u001b[39m GPUArraysCore ─────────────── v0.1.5\n"
     ]
    },
    {
     "name": "stderr",
     "output_type": "stream",
     "text": [
      "\u001b[32m\u001b[1m   Installed\u001b[22m\u001b[39m Adapt ─────────────────────── v3.7.1\n",
      "\u001b[32m\u001b[1m   Installed\u001b[22m\u001b[39m IterTools ─────────────────── v1.8.0\n"
     ]
    },
    {
     "name": "stderr",
     "output_type": "stream",
     "text": [
      "\u001b[32m\u001b[1m   Installed\u001b[22m\u001b[39m IteratorInterfaceExtensions ─ v1.0.0\n",
      "\u001b[32m\u001b[1m   Installed\u001b[22m\u001b[39m Tables ────────────────────── v1.11.1\n",
      "\u001b[32m\u001b[1m   Installed\u001b[22m\u001b[39m GeometryBasics ────────────── v0.4.9\n",
      "\u001b[32m\u001b[1m   Installed\u001b[22m\u001b[39m AxisAlgorithms ────────────── v1.0.1\n",
      "\u001b[32m\u001b[1m   Installed\u001b[22m\u001b[39m WoodburyMatrices ──────────── v0.5.6\n",
      "\u001b[32m\u001b[1m   Installed\u001b[22m\u001b[39m StructArrays ──────────────── v0.6.16\n",
      "\u001b[32m\u001b[1m   Installed\u001b[22m\u001b[39m GeoInterface ──────────────── v1.3.2\n"
     ]
    },
    {
     "name": "stderr",
     "output_type": "stream",
     "text": [
      "\u001b[32m\u001b[1m   Installed\u001b[22m\u001b[39m Interpolations ────────────── v0.14.7\n"
     ]
    },
    {
     "name": "stderr",
     "output_type": "stream",
     "text": [
      "\u001b[32m\u001b[1m    Updating\u001b[22m\u001b[39m `~/.julia/environments/v1.8/Project.toml`\n",
      " \u001b[90m [bd48cda9] \u001b[39m\u001b[92m+ GraphRecipes v0.5.12\u001b[39m\n",
      "\u001b[32m\u001b[1m    Updating\u001b[22m\u001b[39m `~/.julia/environments/v1.8/Manifest.toml`\n",
      " \u001b[90m [1520ce14] \u001b[39m\u001b[92m+ AbstractTrees v0.4.4\u001b[39m\n",
      " \u001b[90m [79e6a3ab] \u001b[39m\u001b[92m+ Adapt v3.7.1\u001b[39m\n",
      " \u001b[90m [ec485272] \u001b[39m\u001b[92m+ ArnoldiMethod v0.2.0\u001b[39m\n",
      " \u001b[90m [13072b0f] \u001b[39m\u001b[92m+ AxisAlgorithms v1.0.1\u001b[39m\n",
      " \u001b[90m [e2d170a0] \u001b[39m\u001b[92m+ DataValueInterfaces v1.0.0\u001b[39m\n",
      " \u001b[90m [411431e0] \u001b[39m\u001b[92m+ Extents v0.1.2\u001b[39m\n",
      " \u001b[90m [46192b85] \u001b[39m\u001b[92m+ GPUArraysCore v0.1.5\u001b[39m\n",
      " \u001b[90m [cf35fbd7] \u001b[39m\u001b[92m+ GeoInterface v1.3.2\u001b[39m\n",
      " \u001b[90m [5c1252a2] \u001b[39m\u001b[92m+ GeometryBasics v0.4.9\u001b[39m\n",
      " \u001b[90m [4d00f742] \u001b[39m\u001b[92m+ GeometryTypes v0.8.5\u001b[39m\n",
      " \u001b[90m [bd48cda9] \u001b[39m\u001b[92m+ GraphRecipes v0.5.12\u001b[39m\n",
      " \u001b[90m [86223c79] \u001b[39m\u001b[92m+ Graphs v1.9.0\u001b[39m\n",
      " \u001b[90m [d25df0c9] \u001b[39m\u001b[92m+ Inflate v0.1.4\u001b[39m\n",
      "\u001b[33m⌅\u001b[39m\u001b[90m [a98d9a8b] \u001b[39m\u001b[92m+ Interpolations v0.14.7\u001b[39m\n",
      " \u001b[90m [c8e1da08] \u001b[39m\u001b[92m+ IterTools v1.8.0\u001b[39m\n",
      " \u001b[90m [82899510] \u001b[39m\u001b[92m+ IteratorInterfaceExtensions v1.0.0\u001b[39m\n",
      " \u001b[90m [46757867] \u001b[39m\u001b[92m+ NetworkLayout v0.4.6\u001b[39m\n",
      " \u001b[90m [6fe1bfb0] \u001b[39m\u001b[92m+ OffsetArrays v1.12.10\u001b[39m\n",
      " \u001b[90m [c84ed2f1] \u001b[39m\u001b[92m+ Ratios v0.4.5\u001b[39m\n",
      " \u001b[90m [699a6c99] \u001b[39m\u001b[92m+ SimpleTraits v0.9.4\u001b[39m\n",
      " \u001b[90m [90137ffa] \u001b[39m\u001b[92m+ StaticArrays v1.7.0\u001b[39m\n",
      " \u001b[90m [1e83bf80] \u001b[39m\u001b[92m+ StaticArraysCore v1.4.2\u001b[39m\n",
      " \u001b[90m [09ab397b] \u001b[39m\u001b[92m+ StructArrays v0.6.16\u001b[39m\n",
      " \u001b[90m [3783bdb8] \u001b[39m\u001b[92m+ TableTraits v1.0.1\u001b[39m\n",
      " \u001b[90m [bd369af6] \u001b[39m\u001b[92m+ Tables v1.11.1\u001b[39m\n",
      " \u001b[90m [efce3f68] \u001b[39m\u001b[92m+ WoodburyMatrices v0.5.6\u001b[39m\n",
      " \u001b[90m [5ae413db] \u001b[39m\u001b[92m+ EarCut_jll v2.2.4+0\u001b[39m\n",
      "\u001b[32m⌃\u001b[39m\u001b[90m [b53b4c65] \u001b[39m\u001b[93m↑ libpng_jll v1.6.38+0 ⇒ v1.6.38+1\u001b[39m\n",
      " \u001b[90m [8ba89e20] \u001b[39m\u001b[92m+ Distributed\u001b[39m\n",
      " \u001b[90m [1a1011a3] \u001b[39m\u001b[92m+ SharedArrays\u001b[39m\n",
      "\u001b[36m\u001b[1m        Info\u001b[22m\u001b[39m Packages marked with \u001b[32m⌃\u001b[39m and \u001b[33m⌅\u001b[39m have new versions available, but those with \u001b[33m⌅\u001b[39m are restricted by compatibility constraints from upgrading. To see why use `status --outdated -m`\n"
     ]
    },
    {
     "name": "stderr",
     "output_type": "stream",
     "text": [
      "\u001b[32m\u001b[1mPrecompiling\u001b[22m\u001b[39m project...\n"
     ]
    },
    {
     "name": "stderr",
     "output_type": "stream",
     "text": [
      "\u001b[32m  ✓ \u001b[39m\u001b[90mIteratorInterfaceExtensions\u001b[39m\n",
      "\u001b[32m  ✓ \u001b[39m\u001b[90mDataValueInterfaces\u001b[39m\n"
     ]
    },
    {
     "name": "stderr",
     "output_type": "stream",
     "text": [
      "\u001b[32m  ✓ \u001b[39m\u001b[90mWoodburyMatrices\u001b[39m\n",
      "\u001b[32m  ✓ \u001b[39m\u001b[90mStaticArraysCore\u001b[39m\n"
     ]
    },
    {
     "name": "stderr",
     "output_type": "stream",
     "text": [
      "\u001b[32m  ✓ \u001b[39m\u001b[90mRatios\u001b[39m\n",
      "\u001b[32m  ✓ \u001b[39m\u001b[90mTableTraits\u001b[39m\n",
      "\u001b[32m  ✓ \u001b[39m\u001b[90mExtents\u001b[39m\n",
      "\u001b[32m  ✓ \u001b[39m\u001b[90mAdapt\u001b[39m\n",
      "\u001b[32m  ✓ \u001b[39m\u001b[90mIterTools\u001b[39m\n",
      "\u001b[32m  ✓ \u001b[39m\u001b[90mAbstractTrees\u001b[39m\n"
     ]
    },
    {
     "name": "stderr",
     "output_type": "stream",
     "text": [
      "\u001b[32m  ✓ \u001b[39m\u001b[90mEarCut_jll\u001b[39m\n",
      "\u001b[32m  ✓ \u001b[39m\u001b[90mInflate\u001b[39m\n",
      "\u001b[32m  ✓ \u001b[39m\u001b[90mlibpng_jll\u001b[39m\n",
      "\u001b[32m  ✓ \u001b[39m\u001b[90mAxisAlgorithms\u001b[39m\n"
     ]
    },
    {
     "name": "stderr",
     "output_type": "stream",
     "text": [
      "\u001b[32m  ✓ \u001b[39m\u001b[90mGPUArraysCore\u001b[39m\n"
     ]
    },
    {
     "name": "stderr",
     "output_type": "stream",
     "text": [
      "\u001b[32m  ✓ \u001b[39m\u001b[90mCairo_jll\u001b[39m\n"
     ]
    },
    {
     "name": "stderr",
     "output_type": "stream",
     "text": [
      "\u001b[32m  ✓ \u001b[39m\u001b[90mTables\u001b[39m\n"
     ]
    },
    {
     "name": "stderr",
     "output_type": "stream",
     "text": [
      "\u001b[32m  ✓ \u001b[39m\u001b[90mGeoInterface\u001b[39m\n",
      "\u001b[32m  ✓ \u001b[39m\u001b[90mSimpleTraits\u001b[39m\n"
     ]
    },
    {
     "name": "stderr",
     "output_type": "stream",
     "text": [
      "\u001b[32m  ✓ \u001b[39m\u001b[90mHarfBuzz_jll\u001b[39m\n"
     ]
    },
    {
     "name": "stderr",
     "output_type": "stream",
     "text": [
      "\u001b[32m  ✓ \u001b[39m\u001b[90mOffsetArrays\u001b[39m\n"
     ]
    },
    {
     "name": "stderr",
     "output_type": "stream",
     "text": [
      "\u001b[32m  ✓ \u001b[39m\u001b[90mStructArrays\u001b[39m\n",
      "\u001b[32m  ✓ \u001b[39m\u001b[90mlibass_jll\u001b[39m\n"
     ]
    },
    {
     "name": "stderr",
     "output_type": "stream",
     "text": [
      "\u001b[32m  ✓ \u001b[39m\u001b[90mFFMPEG_jll\u001b[39m\n"
     ]
    },
    {
     "name": "stderr",
     "output_type": "stream",
     "text": [
      "\u001b[32m  ✓ \u001b[39m\u001b[90mFFMPEG\u001b[39m\n"
     ]
    },
    {
     "name": "stderr",
     "output_type": "stream",
     "text": [
      "\u001b[32m  ✓ \u001b[39m\u001b[90mGR_jll\u001b[39m\n"
     ]
    },
    {
     "name": "stderr",
     "output_type": "stream",
     "text": [
      "\u001b[32m  ✓ \u001b[39m\u001b[90mGR\u001b[39m\n"
     ]
    },
    {
     "name": "stderr",
     "output_type": "stream",
     "text": [
      "\u001b[32m  ✓ \u001b[39m\u001b[90mStaticArrays\u001b[39m\n"
     ]
    },
    {
     "name": "stderr",
     "output_type": "stream",
     "text": [
      "\u001b[32m  ✓ \u001b[39m\u001b[90mArnoldiMethod\u001b[39m\n"
     ]
    },
    {
     "name": "stderr",
     "output_type": "stream",
     "text": [
      "\u001b[32m  ✓ \u001b[39m\u001b[90mGeometryTypes\u001b[39m\n"
     ]
    },
    {
     "name": "stderr",
     "output_type": "stream",
     "text": [
      "\u001b[32m  ✓ \u001b[39m\u001b[90mInterpolations\u001b[39m\n"
     ]
    },
    {
     "name": "stderr",
     "output_type": "stream",
     "text": [
      "\u001b[32m  ✓ \u001b[39m\u001b[90mGeometryBasics\u001b[39m\n"
     ]
    },
    {
     "name": "stderr",
     "output_type": "stream",
     "text": [
      "\u001b[32m  ✓ \u001b[39m\u001b[90mGraphs\u001b[39m\n"
     ]
    },
    {
     "name": "stderr",
     "output_type": "stream",
     "text": [
      "\u001b[32m  ✓ \u001b[39m\u001b[90mNetworkLayout\u001b[39m\n"
     ]
    },
    {
     "name": "stderr",
     "output_type": "stream",
     "text": [
      "\u001b[32m  ✓ \u001b[39mGraphRecipes\n"
     ]
    },
    {
     "name": "stderr",
     "output_type": "stream",
     "text": [
      "\u001b[32m  ✓ \u001b[39mPlots\n",
      "  36 dependencies successfully precompiled in 46 seconds. 146 already precompiled.\n",
      "\u001b[32m\u001b[1m   Resolving\u001b[22m\u001b[39m package versions...\n"
     ]
    },
    {
     "name": "stderr",
     "output_type": "stream",
     "text": [
      "\u001b[32m\u001b[1m  No Changes\u001b[22m\u001b[39m to `~/.julia/environments/v1.8/Project.toml`\n",
      "\u001b[32m\u001b[1m  No Changes\u001b[22m\u001b[39m to `~/.julia/environments/v1.8/Manifest.toml`\n"
     ]
    }
   ],
   "source": [
    "import Pkg; \n",
    "Pkg.add(\"GraphRecipes\"); Pkg.add(\"Plots\"); \n",
    "using GraphRecipes, Plots #only used to visualize the search tree at the end of the branch-and-bound"
   ]
  },
  {
   "cell_type": "markdown",
   "metadata": {},
   "source": [
    "### Récupération des données"
   ]
  },
  {
   "cell_type": "code",
   "execution_count": 2,
   "metadata": {},
   "outputs": [
    {
     "data": {
      "text/plain": [
       "readKnaptxtInstance (generic function with 1 method)"
      ]
     },
     "metadata": {},
     "output_type": "display_data"
    }
   ],
   "source": [
    "function readKnaptxtInstance(filename)\n",
    "    price=Int64[]\n",
    "    weight=Int64[]\n",
    "    KnapCap=Int64[]\n",
    "    open(filename) do f\n",
    "        for i in 1:3\n",
    "            tok = split(readline(f))\n",
    "            if(tok[1] == \"ListPrices=\")\n",
    "                for i in 2:(length(tok)-1)\n",
    "                    push!(price,parse(Int64, tok[i]))\n",
    "                end\n",
    "            elseif(tok[1] == \"ListWeights=\")\n",
    "                for i in 2:(length(tok)-1)\n",
    "                    push!(weight,parse(Int64, tok[i]))\n",
    "                end\n",
    "            elseif(tok[1] == \"Capacity=\")\n",
    "                push!(KnapCap, parse(Int64, tok[2]))\n",
    "            else\n",
    "                println(\"Unknown read :\", tok)\n",
    "            end\n",
    "        end\n",
    "    end\n",
    "    capacity=KnapCap[1]\n",
    "    return price, weight, capacity\n",
    "end"
   ]
  },
  {
   "cell_type": "markdown",
   "metadata": {},
   "source": [
    "### Tests de sondabilités TA, TO et TR basés sur le modèle linéaire"
   ]
  },
  {
   "cell_type": "code",
   "execution_count": 3,
   "metadata": {},
   "outputs": [
    {
     "data": {
      "text/plain": [
       "testSondability_LP (generic function with 1 method)"
      ]
     },
     "metadata": {},
     "output_type": "display_data"
    }
   ],
   "source": [
    "function testSondability_LP(model2, x, BestProfit, Bestsol)\n",
    "    TA, TO, TR = false, false, false\n",
    "    if(termination_status(model2) == MOI.INFEASIBLE)#Test de faisabilite\n",
    "        TA=true\n",
    "        println(\"TA\")\n",
    "    elseif(objective_value(model2) <= BestProfit) #Test d'optimalite\n",
    "        TO=true\n",
    "        println(\"TO\")\n",
    "    elseif( prod(abs.([round.(v, digits=0) for v in value.(x)]-value.(x)) .<= fill(10^-5, size(x)))\n",
    "        ) #Test de resolution\n",
    "        TR=true\n",
    "        println(\"TR\")\n",
    "        #if (value(benef) >= BestProfit)\n",
    "        if (objective_value(model2) >= BestProfit)\n",
    "            Bestsol = value.(x)\n",
    "            #BestProfit=value(benef)\n",
    "            BestProfit=objective_value(model2)\n",
    "            println(\"\\nNew Solution memorized \", Bestsol, \" with bestprofit \", BestProfit, \"\\n\")\n",
    "        end\n",
    "    else\n",
    "        println(\"non sondable\")\n",
    "    end\n",
    "    TA, TO, TR, Bestsol, BestProfit\n",
    "end"
   ]
  },
  {
   "cell_type": "markdown",
   "metadata": {},
   "source": [
    "## Procédure de séparation (branching) et stratégie d'exploration permettant de se placer au prochain noeud à traiter"
   ]
  },
  {
   "cell_type": "code",
   "execution_count": 4,
   "metadata": {},
   "outputs": [
    {
     "data": {
      "text/plain": [
       "exploreNextNode_depthfirst! (generic function with 1 method)"
      ]
     },
     "metadata": {},
     "output_type": "display_data"
    }
   ],
   "source": [
    "function separateNodeThenchooseNext_lexicographic_depthfirst!(listobjs, listvals, n)\n",
    "    # this node is non-sondable. Apply the branching criterion to separate it into two subnodes\n",
    "    # and choose the child-node at the left\n",
    "\n",
    "    # lexicographic branching criterion: branch on the 1st object not yet fixed\n",
    "    i, obj = 1, 0\n",
    "    while((i <= n) && (obj==0))\n",
    "        if(!(i in listobjs))\n",
    "            obj=i\n",
    "        end\n",
    "        i+=1\n",
    "    end\n",
    "\n",
    "    println(\"\\nbranch on object \", obj, \"\\n\")\n",
    "\n",
    "    # depthfirst exploration strategy: the node selected will be the most left of the child-nodes just created\n",
    "    push!(listobjs,obj) #save the identity of the object selected for branching\n",
    "    push!(listvals,1.0) #save the node selected, identified by the value assigned to the variable/object chosen\n",
    "end\n",
    "\n",
    "\n",
    "function exploreNextNode_depthfirst!(listobjs, listvals, listnodes)\n",
    "    #this node is sondable, go back to parent node then right child if possible\n",
    "\n",
    "    stop=false\n",
    "    #check if we are not at the root node\n",
    "    if (length(listobjs)>= 1)\n",
    "        #go back to parent node\n",
    "        obj=pop!(listobjs)\n",
    "        theval=pop!(listvals)\n",
    "        tmp=pop!(listnodes)\n",
    "\n",
    "        #go to right child if possible, otherwise go back to parent\n",
    "        while( (theval==0.0) && (length(listobjs)>= 1))\n",
    "            obj=pop!(listobjs)\n",
    "            theval=pop!(listvals)\n",
    "            tmp=pop!(listnodes)\n",
    "        end\n",
    "        if theval==1.0\n",
    "            push!(listobjs,obj)\n",
    "            push!(listvals,0.0)\n",
    "        else\n",
    "            println(\"\\nFINISHED\")\n",
    "            stop=true\n",
    "        end\n",
    "    else\n",
    "        #the root node was sondable\n",
    "        println(\"\\nFINISHED\")\n",
    "        stop=true\n",
    "    end\n",
    "    return stop\n",
    "end"
   ]
  },
  {
   "cell_type": "markdown",
   "metadata": {},
   "source": [
    "###  Création de la relaxation linéaire (= modèle associé au noeud 0): <span style=\"color:red\"> SECTION A SUPPRIMER !!!! </span>\n",
    "\n",
    "<span style=\"color:red\"> Cette section est à commenter/supprimer et remplacer par vos propres calculs de bornes supérieures et autres, par exemple basées sur les bornes 1 et 2 vues en cours, ou d'autres calculs de bornes de votre choix/conception validés au préalable par votre encadrant/e de TP </span>"
   ]
  },
  {
   "cell_type": "code",
   "execution_count": 11,
   "metadata": {},
   "outputs": [
    {
     "data": {
      "text/plain": [
       "borneSup1 (generic function with 1 method)"
      ]
     },
     "metadata": {},
     "output_type": "display_data"
    }
   ],
   "source": [
    "# Pkg.add(\"Clp\");\n",
    "# Pkg.add(\"JuMP\");\n",
    "# using JuMP, Clp #to comment for the lab class\n",
    "\n",
    "# function updateModele_LP!(model2, x, listobjs, listvals)\n",
    "#     for i in 1:length(listobjs)\n",
    "#         set_lower_bound(x[listobjs[i]],listvals[i])\n",
    "#         set_upper_bound(x[listobjs[i]],listvals[i])\n",
    "#     end\n",
    "# end\n",
    "\n",
    "# function reset_LP!(model2, x, listobjs)\n",
    "#     for i in 1:length(listobjs)\n",
    "#         set_lower_bound(x[listobjs[i]],0.0)\n",
    "#         set_upper_bound(x[listobjs[i]],1.0)\n",
    "#     end\n",
    "# end\n",
    "\n",
    "# function resetAll_LP!(model2, x)\n",
    "#     for i in 1:length(x)\n",
    "#         set_lower_bound(x[i],0.0)\n",
    "#         set_upper_bound(x[i],1.0)\n",
    "#     end\n",
    "# end\n",
    "\n",
    "# function createModel_LP(price, weight, capacity)\n",
    "# # ROOT NODE\n",
    "\n",
    "#     n=length(price)\n",
    "\n",
    "#     model2 = Model(Clp.Optimizer) # set optimizer\n",
    "#     set_optimizer_attribute(model2, \"LogLevel\", 0) #don't display anything during solve\n",
    "#     set_optimizer_attribute(model2, \"Algorithm\", 4) #LP solver chosen is simplex\n",
    "\n",
    "#     # define x variables as CONTINUOUS (recall that it is not possible to define binary variables in Clp)\n",
    "#     @variable(model2, 0 <= x[i in 1:n] <= 1)\n",
    "\n",
    "#     # define objective function\n",
    "#     @objective(model2, Max, sum(price[i]*x[i] for i in 1:n))\n",
    "\n",
    "#     # define the capacity constraint\n",
    "#     @constraint(model2, sum(weight[i]*x[i] for i in 1:n) <=  capacity)\n",
    "\n",
    "#     println(model2)\n",
    "\n",
    "#     return model2, x\n",
    "# end\n",
    "\n",
    "function bestRatio(weight, price)\n",
    "    # compute objects ratios\n",
    "    ratio = [p/w for (p,w) in (price,weight)]\n",
    "\n",
    "    # return the list of objects index sorted by best ratio\n",
    "    return sortperm(ratio, rev=true)\n",
    "end\n",
    "\n",
    "function borneSup1(price, weight, capacity, listobjs, listvals)\n",
    "    listratio = bestRatio(weight, price)\n",
    "    \n",
    "    # find the best ratio object available\n",
    "    i = first(filter(x -> !(x in listobjs), listratio))\n",
    "\n",
    "    # compute the upper bound\n",
    "    upperBound = capacity * price[i]/weight[i]\n",
    "\n",
    "    # update the lists of objects and values\n",
    "    push!(listobjs, i)\n",
    "    listvals[i] = capacity\n",
    "    \n",
    "    return upperBound, listobjs, listvals\n",
    "end"
   ]
  },
  {
   "cell_type": "markdown",
   "metadata": {},
   "source": [
    "### Boucle principale : résoudre une relaxation, appliquer les tests de sondabilité, identifier le prochain noeud, répéter."
   ]
  },
  {
   "cell_type": "code",
   "execution_count": 8,
   "metadata": {},
   "outputs": [
    {
     "data": {
      "text/plain": [
       "solveKnapInstance (generic function with 1 method)"
      ]
     },
     "metadata": {},
     "output_type": "display_data"
    }
   ],
   "source": [
    "# function solveKnapInstance(filename)\n",
    "\n",
    "#     price, weight, capacity = readKnaptxtInstance(filename)\n",
    "\n",
    "#     model2, x = createModel_LP(price, weight, capacity)\n",
    "\n",
    "#     #create the structure to memorize the search tree for visualization at the end\n",
    "#     trParentnodes=Int64[] #will store orig node of arc in search tree\n",
    "#     trChildnodes=Int64[] #will store destination node of arc in search tree\n",
    "#     trNamenodes=[] #will store names of nodes in search tree\n",
    "\n",
    "#     #intermediate structure to navigate in the search tree\n",
    "#     listobjs=Int64[]\n",
    "#     listvals=Float64[]\n",
    "#     listnodes=Int64[]\n",
    "\n",
    "#     BestProfit::Float64=-1.0\n",
    "#     Bestsol=Float64[]\n",
    "\n",
    "#     current_node_number::Int64=0\n",
    "#     stop = false\n",
    "\n",
    "#     while(!stop)\n",
    "\n",
    "#         println(\"\\nNode number \", current_node_number, \": \\n---------------\\n\")\n",
    "\n",
    "#         #Update the graphical tree\n",
    "#         push!(trNamenodes,current_node_number+1) \n",
    "#         if(length(trNamenodes)>=2)\n",
    "#             push!(trParentnodes,listnodes[end]+1) # +1 because the 1st node is \"node 0\"\n",
    "#             push!(trChildnodes, current_node_number+1) # +1 because the 1st node is \"node 0\"\n",
    "#         end\n",
    "#         push!(listnodes, current_node_number)\n",
    "\n",
    "        \n",
    "#         #create LP of current node\n",
    "#         updateModele_LP!(model2, x, listobjs, listvals)\n",
    "        \n",
    "#         println(model2)\n",
    "        \n",
    "#         print(\"Solve the LP model of the current node to compute its bound: start ... \")\n",
    "\n",
    "#         status = optimize!(model2)\n",
    "\n",
    "#         println(\"... end\"); \n",
    "\n",
    "#         print(\": Solution LP\")\n",
    "#         if(termination_status(model2) == MOI.INFEASIBLE)#(has_values(model2))\n",
    "#             print(\" : NOT AVAILABLE (probably infeasible or ressources limit reached)\")\n",
    "#         else\n",
    "#             print(\" \", objective_value(model2))\n",
    "#             [print(\"\\t\", name(v),\"=\",value(v)) for v in all_variables(model2)] \n",
    "#         end\n",
    "#         println(\" \"); \n",
    "\n",
    "\n",
    "#         println(\"\\nPrevious Solution memorized \", Bestsol, \" with bestprofit \", BestProfit, \"\\n\")\n",
    "\n",
    "#         TA, TO, TR, Bestsol, BestProfit = testSondability_LP(model2, x, BestProfit, Bestsol)\n",
    "\n",
    "#         is_node_sondable = TA || TO || TR\n",
    "\n",
    "#         #Reset_LP!(model2, x, listobjs)\n",
    "\n",
    "#         if(!is_node_sondable)\n",
    "#             separateNodeThenchooseNext_lexicographic_depthfirst!(listobjs, listvals, length(price))\n",
    "#         else\n",
    "#             stop = exploreNextNode_depthfirst!(listobjs, listvals, listnodes)\n",
    "#         end\n",
    "        \n",
    "#         resetAll_LP!(model2, x)\n",
    "\n",
    "#         current_node_number = current_node_number + 1\n",
    "#     end\n",
    "\n",
    "#     println(\"\\n******\\n\\nOptimal value = \", BestProfit, \"\\n\\nOptimal x=\", Bestsol)\n",
    "\n",
    "#     return BestProfit, Bestsol, trParentnodes, trChildnodes, trNamenodes\n",
    "\n",
    "# end\n",
    "\n",
    "function solveKnapInstance(filename)\n",
    "\n",
    "    price, weight, capacity = readKnaptxtInstance(filename)\n",
    "\n",
    "    #create the structure to memorize the search tree for visualization at the end\n",
    "    trParentnodes=Int64[] #will store orig node of arc in search tree\n",
    "    trChildnodes=Int64[] #will store destination node of arc in search tree\n",
    "    trNamenodes=[] #will store names of nodes in search tree\n",
    "\n",
    "    #intermediate structure to navigate in the search tree\n",
    "    listobjs=Int64[]\n",
    "    listvals=Float64[]\n",
    "    listnodes=Int64[]\n",
    "\n",
    "    BestProfit::Float64=-1.0\n",
    "    Bestsol=Float64[]\n",
    "\n",
    "    current_node_number::Int64=0\n",
    "    stop = false\n",
    "\n",
    "    while(!stop)\n",
    "\n",
    "        println(\"\\nNode number \", current_node_number, \": \\n---------------\\n\")\n",
    "\n",
    "        #Update the graphical tree\n",
    "        push!(trNamenodes,current_node_number+1) \n",
    "        if(length(trNamenodes)>=2)\n",
    "            push!(trParentnodes,listnodes[end]+1) # +1 because the 1st node is \"node 0\"\n",
    "            push!(trChildnodes, current_node_number+1) # +1 because the 1st node is \"node 0\"\n",
    "        end\n",
    "        push!(listnodes, current_node_number)\n",
    "\n",
    "        \n",
    "        print(\"Solve the LP model of the current node to compute its bound: start ... \")\n",
    "\n",
    "        borneSup1()\n",
    "\n",
    "        println(\"... end\"); \n",
    "\n",
    "        print(\": Solution LP\")\n",
    "        if(termination_status(model2) == MOI.INFEASIBLE)#(has_values(model2))\n",
    "            print(\" : NOT AVAILABLE (probably infeasible or ressources limit reached)\")\n",
    "        else\n",
    "            print(\" \", objective_value(model2))\n",
    "            [print(\"\\t\", name(v),\"=\",value(v)) for v in all_variables(model2)] \n",
    "        end\n",
    "        println(\" \"); \n",
    "\n",
    "\n",
    "        println(\"\\nPrevious Solution memorized \", Bestsol, \" with bestprofit \", BestProfit, \"\\n\")\n",
    "\n",
    "        TA, TO, TR, Bestsol, BestProfit = testSondability_LP(model2, x, BestProfit, Bestsol)\n",
    "\n",
    "        is_node_sondable = TA || TO || TR\n",
    "\n",
    "        #Reset_LP!(model2, x, listobjs)\n",
    "\n",
    "        if(!is_node_sondable)\n",
    "            separateNodeThenchooseNext_lexicographic_depthfirst!(listobjs, listvals, length(price))\n",
    "        else\n",
    "            stop = exploreNextNode_depthfirst!(listobjs, listvals, listnodes)\n",
    "        end\n",
    "        \n",
    "        resetAll_LP!(model2, x)\n",
    "\n",
    "        current_node_number = current_node_number + 1\n",
    "    end\n",
    "\n",
    "    println(\"\\n******\\n\\nOptimal value = \", BestProfit, \"\\n\\nOptimal x=\", Bestsol)\n",
    "\n",
    "    return BestProfit, Bestsol, trParentnodes, trChildnodes, trNamenodes\n",
    "\n",
    "end\n",
    "\n"
   ]
  },
  {
   "cell_type": "markdown",
   "metadata": {},
   "source": [
    "### Affichage du résultat final"
   ]
  },
  {
   "cell_type": "code",
   "execution_count": 9,
   "metadata": {},
   "outputs": [
    {
     "data": {
      "text/plain": [
       "solveNdisplayKnap (generic function with 1 method)"
      ]
     },
     "metadata": {},
     "output_type": "display_data"
    }
   ],
   "source": [
    "function solveNdisplayKnap(filename)\n",
    "\n",
    "    println(\"\\n Branch-and-Bound for solving a knapsack problem. \\n\\n Solving instance '\" * filename * \"'\\n\")\n",
    "\n",
    "    BestProfit, Bestsol, trParentnodes, trChildnodes, trNamenodes = solveKnapInstance(filename)\n",
    "\n",
    "    println(\"\\n******\\n\\nOptimal value = \", BestProfit, \"\\n\\nOptimal x=\", Bestsol)\n",
    "\n",
    "    println(\"\\n Branch-and-bound tree visualization : start display ...\")\n",
    "    display(graphplot(trParentnodes, trChildnodes, names=trNamenodes, method=:tree))\n",
    "    println(\"... end display. \\n\\n\")\n",
    "\n",
    "end"
   ]
  },
  {
   "cell_type": "code",
   "execution_count": 10,
   "metadata": {},
   "outputs": [
    {
     "name": "stdout",
     "output_type": "stream",
     "text": [
      "\n",
      " Branch-and-Bound for solving a knapsack problem. \n",
      "\n",
      " Solving instance 'InstancesKnapSack/test.opb.txt'\n",
      "\n"
     ]
    },
    {
     "name": "stdout",
     "output_type": "stream",
     "text": [
      "Max 42 x[1] + 40 x[2] + 12 x[3] + 25 x[4]\n",
      "Subject to\n",
      " "
     ]
    },
    {
     "name": "stdout",
     "output_type": "stream",
     "text": [
      "7 x[1] + 4 x[2] + 3 x[3] + 5 x[4] ≤ 10\n",
      " x[1] ≥ 0\n",
      " x[2] ≥ 0\n",
      " x[3] ≥ 0\n",
      " x[4] ≥ 0\n",
      " x[1] ≤ 1\n",
      " x[2] ≤ 1\n",
      " x[3] ≤ 1\n",
      " x[4] ≤ 1\n",
      "\n",
      "\n",
      "Node number 0: \n",
      "---------------\n",
      "\n",
      "Max 42 x[1] + 40 x[2] + 12 x[3] + 25 x[4]\n",
      "Subject to\n",
      " 7 x[1] + 4 x[2] + 3 x[3] + 5 x[4] ≤ 10\n",
      " x[1] ≥ 0\n",
      " x[2] ≥ 0\n",
      " x[3] ≥ 0\n",
      " x[4] ≥ 0\n",
      " x[1] ≤ 1\n",
      " x[2] ≤ 1\n",
      " x[3] ≤ 1\n",
      " x[4] ≤ 1\n",
      "\n",
      "Solve the LP model of the current node to compute its bound: start ... ... end"
     ]
    },
    {
     "name": "stdout",
     "output_type": "stream",
     "text": [
      "\n",
      ": Solution LP"
     ]
    },
    {
     "name": "stdout",
     "output_type": "stream",
     "text": [
      " 76.0"
     ]
    },
    {
     "name": "stdout",
     "output_type": "stream",
     "text": [
      "\tx[1]=0.857142857142857\tx[2]=1.0\tx[3]=0.0\tx[4]=0.0 \n",
      "\n",
      "Previous Solution memorized Float64"
     ]
    },
    {
     "name": "stdout",
     "output_type": "stream",
     "text": [
      "[] with bestprofit -1.0\n",
      "\n",
      "non sondable\n",
      "\n",
      "branch on object 1\n",
      "\n"
     ]
    },
    {
     "data": {
      "image/png": "[encoded data removed]",
      "image/svg+xml": [
       "<?xml version=\"1.0\" encoding=\"utf-8\"?>\n",
       "<svg xmlns=\"http://www.w3.org/2000/svg\" xmlns:xlink=\"http://www.w3.org/1999/xlink\" width=\"600\" height=\"400\" viewBox=\"0 0 2400 1600\">\n",
       "<defs>\n",
       "  <clipPath id=\"clip790\">\n",
       "    <rect x=\"0\" y=\"0\" width=\"2400\" height=\"1600\"/>\n",
       "  </clipPath>\n",
       "</defs>\n",
       "<path clip-path=\"url(#clip790)\" d=\"M0 1600 L2400 1600 L2400 0 L0 0  Z\" fill=\"#ffffff\" fill-rule=\"evenodd\" fill-opacity=\"1\"/>\n",
       "<defs>\n",
       "  <clipPath id=\"clip791\">\n",
       "    <rect x=\"480\" y=\"0\" width=\"1681\" height=\"1600\"/>\n",
       "  </clipPath>\n",
       "</defs>\n",
       "<path clip-path=\"url(#clip790)\" d=\"M447.244 1552.76 L1952.76 1552.76 L1952.76 47.2441 L447.244 47.2441  Z\" fill=\"#ffffff\" fill-rule=\"evenodd\" fill-opacity=\"1\"/>\n",
       "<defs>\n",
       "  <clipPath id=\"clip792\">\n",
       "    <rect x=\"447\" y=\"47\" width=\"1507\" height=\"1507\"/>\n",
       "  </clipPath>\n",
       "</defs>\n",
       "<polyline clip-path=\"url(#clip792)\" style=\"stroke:#000000; stroke-linecap:round; stroke-linejoin:round; stroke-width:4; stroke-opacity:1; fill:none\" points=\"1248.83,262.317 1249.45,272.946 1251.25,283.476 1254.14,293.915 1258.03,304.269 1262.84,314.547 1268.48,324.755 1274.86,334.9 1281.9,344.991 1289.5,355.035 1297.59,365.038 1306.07,375.008 1314.85,384.952 1323.85,394.878 1332.98,404.794 1342.16,414.705 1351.29,424.62 1360.29,434.547 1369.08,444.491 1377.56,454.461 1385.64,464.464 1393.25,474.508 1400.28,484.598 1406.66,494.744 1412.3,504.952 1417.11,515.23 1421.01,525.584 1423.9,536.023 1425.69,546.553 1426.31,557.182 \"/>\n",
       "<polyline clip-path=\"url(#clip792)\" style=\"stroke:#000000; stroke-linecap:round; stroke-linejoin:round; stroke-width:4; stroke-opacity:1; fill:none\" points=\"1426.31,557.182 1426.15,563.409 1425.67,569.731 1424.91,576.141 1423.88,582.632 1422.61,589.197 1421.12,595.829 1419.43,602.52 1417.57,609.265 1415.56,616.055 1413.43,622.883 1411.19,629.744 1408.87,636.629 1406.49,643.532 1404.07,650.445 1401.65,657.361 1399.24,664.275 1396.86,671.177 1394.54,678.062 1392.3,684.923 1390.16,691.751 1388.15,698.541 1386.29,705.286 1384.6,711.977 1383.11,718.609 1381.84,725.174 1380.81,731.665 1380.05,738.075 1379.57,744.397 1379.41,750.624 \"/>\n",
       "<polyline clip-path=\"url(#clip792)\" style=\"stroke:#000000; stroke-linecap:round; stroke-linejoin:round; stroke-width:4; stroke-opacity:1; fill:none\" points=\"1426.31,557.182 1426.81,566.605 1428.28,575.989 1430.62,585.336 1433.79,594.65 1437.69,603.934 1442.28,613.189 1447.46,622.421 1453.18,631.63 1459.36,640.82 1465.93,649.995 1472.81,659.156 1479.95,668.308 1487.26,677.452 1494.69,686.591 1502.14,695.729 1509.56,704.869 1516.87,714.013 1524.01,723.164 1530.9,732.326 1537.47,741.5 1543.65,750.691 1549.36,759.9 1554.55,769.131 1559.13,778.387 1563.04,787.671 1566.2,796.985 1568.55,806.332 1570.01,815.716 1570.51,825.139 \"/>\n",
       "<polyline clip-path=\"url(#clip792)\" style=\"stroke:#000000; stroke-linecap:round; stroke-linejoin:round; stroke-width:4; stroke-opacity:1; fill:none\" points=\"1570.51,825.139 1571.07,832.347 1572.69,839.301 1575.29,846.018 1578.79,852.519 1583.12,858.821 1588.19,864.944 1593.93,870.906 1600.27,876.727 1607.11,882.425 1614.38,888.019 1622.01,893.529 1629.91,898.972 1638.01,904.368 1646.23,909.736 1654.49,915.094 1662.7,920.462 1670.8,925.858 1678.71,931.301 1686.33,936.81 1693.61,942.405 1700.45,948.103 1706.78,953.924 1712.52,959.886 1717.6,966.009 1721.93,972.311 1725.43,978.812 1728.03,985.529 1729.64,992.483 1730.2,999.691 \"/>\n",
       "<polyline clip-path=\"url(#clip792)\" style=\"stroke:#000000; stroke-linecap:round; stroke-linejoin:round; stroke-width:4; stroke-opacity:1; fill:none\" points=\"1570.51,825.139 1570.72,832.824 1571.32,840.624 1572.28,848.531 1573.58,856.536 1575.19,864.63 1577.07,872.805 1579.2,881.053 1581.55,889.365 1584.08,897.732 1586.78,906.146 1589.61,914.598 1592.54,923.08 1595.54,931.584 1598.59,940.1 1601.65,948.621 1604.7,957.137 1607.7,965.64 1610.64,974.123 1613.46,982.575 1616.16,990.989 1618.7,999.356 1621.05,1007.67 1623.18,1015.92 1625.06,1024.09 1626.66,1032.19 1627.96,1040.19 1628.93,1048.1 1629.53,1055.9 1629.73,1063.58 \"/>\n",
       "<polyline clip-path=\"url(#clip792)\" style=\"stroke:#000000; stroke-linecap:round; stroke-linejoin:round; stroke-width:4; stroke-opacity:1; fill:none\" points=\"1629.73,1063.58 1629.42,1069.38 1628.52,1075.16 1627.08,1080.92 1625.13,1086.66 1622.73,1092.37 1619.91,1098.07 1616.72,1103.76 1613.2,1109.43 1609.39,1115.09 1605.35,1120.74 1601.11,1126.38 1596.72,1132.02 1592.22,1137.65 1587.65,1143.28 1583.06,1148.91 1578.49,1154.54 1573.99,1160.17 1569.6,1165.81 1565.36,1171.45 1561.32,1177.1 1557.52,1182.76 1554,1188.43 1550.8,1194.12 1547.98,1199.82 1545.58,1205.54 1543.63,1211.27 1542.19,1217.03 1541.29,1222.81 1540.98,1228.61 \"/>\n",
       "<polyline clip-path=\"url(#clip792)\" style=\"stroke:#000000; stroke-linecap:round; stroke-linejoin:round; stroke-width:4; stroke-opacity:1; fill:none\" points=\"1629.73,1063.58 1630.11,1072.46 1631.2,1081.4 1632.96,1090.37 1635.33,1099.39 1638.25,1108.44 1641.68,1117.53 1645.56,1126.65 1649.84,1135.8 1654.47,1144.97 1659.39,1154.16 1664.54,1163.37 1669.89,1172.59 1675.36,1181.82 1680.92,1191.05 1686.5,1200.29 1692.05,1209.52 1697.53,1218.75 1702.87,1227.97 1708.03,1237.18 1712.94,1246.37 1717.57,1255.54 1721.85,1264.68 1725.73,1273.8 1729.16,1282.89 1732.09,1291.95 1734.46,1300.97 1736.21,1309.94 1737.31,1318.87 1737.68,1327.76 \"/>\n",
       "<polyline clip-path=\"url(#clip792)\" style=\"stroke:#000000; stroke-linecap:round; stroke-linejoin:round; stroke-width:4; stroke-opacity:1; fill:none\" points=\"1248.83,262.317 1248.25,273.331 1246.55,284.302 1243.81,295.231 1240.12,306.123 1235.57,316.981 1230.23,327.808 1224.19,338.607 1217.53,349.381 1210.33,360.135 1202.68,370.87 1194.65,381.591 1186.34,392.301 1177.81,403.002 1169.17,413.698 1160.48,424.393 1151.84,435.09 1143.31,445.791 1135,456.5 1126.97,467.221 1119.32,477.957 1112.12,488.71 1105.46,499.485 1099.42,510.284 1094.08,521.111 1089.52,531.969 1085.84,542.861 1083.1,553.79 1081.4,564.76 1080.82,575.774 \"/>\n",
       "<polyline clip-path=\"url(#clip792)\" style=\"stroke:#000000; stroke-linecap:round; stroke-linejoin:round; stroke-width:4; stroke-opacity:1; fill:none\" points=\"1080.82,575.774 1080.27,583.727 1078.68,591.501 1076.13,599.111 1072.69,606.568 1068.45,613.888 1063.47,621.081 1057.83,628.163 1051.62,635.146 1044.9,642.044 1037.76,648.868 1030.28,655.634 1022.52,662.353 1014.57,669.039 1006.51,675.705 998.407,682.365 990.342,689.032 982.394,695.718 974.638,702.437 967.152,709.202 960.013,716.027 953.298,722.924 947.084,729.907 941.449,736.989 936.469,744.183 932.222,751.502 928.784,758.96 926.233,766.569 924.646,774.344 924.099,782.296 \"/>\n",
       "<polyline clip-path=\"url(#clip792)\" style=\"stroke:#000000; stroke-linecap:round; stroke-linejoin:round; stroke-width:4; stroke-opacity:1; fill:none\" points=\"924.099,782.296 923.587,789.491 922.098,796.498 919.706,803.333 916.481,810.008 912.497,816.538 907.826,822.936 902.54,829.217 896.712,835.393 890.414,841.48 883.718,847.49 876.696,853.438 869.422,859.338 861.966,865.203 854.402,871.047 846.802,876.884 839.238,882.728 831.782,888.593 824.508,894.493 817.486,900.441 810.79,906.451 804.492,912.537 798.663,918.714 793.378,924.995 788.707,931.393 784.723,937.923 781.498,944.598 779.105,951.432 777.617,958.44 777.104,965.635 \"/>\n",
       "<polyline clip-path=\"url(#clip792)\" style=\"stroke:#000000; stroke-linecap:round; stroke-linejoin:round; stroke-width:4; stroke-opacity:1; fill:none\" points=\"777.104,965.635 777.155,977.318 777.3,989.248 777.535,1001.4 777.851,1013.77 778.241,1026.33 778.698,1039.06 779.216,1051.94 779.787,1064.96 780.404,1078.1 781.06,1091.34 781.748,1104.66 782.46,1118.04 783.191,1131.47 783.932,1144.93 784.676,1158.39 785.417,1171.85 786.147,1185.28 786.86,1198.66 787.548,1211.98 788.204,1225.22 788.821,1238.36 789.392,1251.38 789.909,1264.26 790.367,1276.99 790.757,1289.55 791.073,1301.91 791.307,1314.07 791.453,1326 791.503,1337.68 \"/>\n",
       "<polyline clip-path=\"url(#clip792)\" style=\"stroke:#000000; stroke-linecap:round; stroke-linejoin:round; stroke-width:4; stroke-opacity:1; fill:none\" points=\"777.104,965.635 776.704,974.5 775.542,983.395 773.673,992.317 771.155,1001.26 768.044,1010.23 764.397,1019.22 760.269,1028.23 755.718,1037.25 750.8,1046.29 745.571,1055.34 740.088,1064.4 734.407,1073.47 728.585,1082.54 722.678,1091.62 716.743,1100.7 710.837,1109.77 705.015,1118.85 699.334,1127.91 693.851,1136.97 688.622,1146.03 683.704,1155.06 679.152,1164.09 675.025,1173.1 671.377,1182.09 668.266,1191.06 665.748,1200 663.88,1208.92 662.717,1217.82 662.317,1226.68 \"/>\n",
       "<polyline clip-path=\"url(#clip792)\" style=\"stroke:#000000; stroke-linecap:round; stroke-linejoin:round; stroke-width:4; stroke-opacity:1; fill:none\" points=\"924.099,782.296 924.24,792.432 924.647,802.766 925.301,813.283 926.184,823.969 927.274,834.808 928.551,845.788 929.997,856.892 931.592,868.106 933.315,879.415 935.147,890.805 937.068,902.261 939.058,913.768 941.098,925.312 943.167,936.878 945.246,948.451 947.316,960.017 949.355,971.561 951.345,983.069 953.266,994.525 955.098,1005.91 956.821,1017.22 958.416,1028.44 959.862,1039.54 961.14,1050.52 962.23,1061.36 963.112,1072.05 963.766,1082.56 964.174,1092.9 964.314,1103.03 \"/>\n",
       "<polyline clip-path=\"url(#clip792)\" style=\"stroke:#000000; stroke-linecap:round; stroke-linejoin:round; stroke-width:4; stroke-opacity:1; fill:none\" points=\"1080.82,575.774 1080.95,583.172 1081.32,590.708 1081.93,598.37 1082.74,606.149 1083.75,614.035 1084.93,622.017 1086.27,630.086 1087.74,638.231 1089.34,646.442 1091.03,654.71 1092.8,663.022 1094.64,671.371 1096.53,679.745 1098.44,688.134 1100.36,696.528 1102.28,704.917 1104.16,713.291 1106,721.639 1107.78,729.952 1109.47,738.219 1111.06,746.43 1112.54,754.575 1113.88,762.644 1115.06,770.627 1116.06,778.512 1116.88,786.292 1117.48,793.954 1117.86,801.489 1117.99,808.887 \"/>\n",
       "<path clip-path=\"url(#clip792)\" d=\"M1263.89 262.317 L1256.36 249.279 L1241.3 249.279 L1233.78 262.317 L1241.3 275.355 L1256.36 275.355 L1263.89 262.317 L1263.89 262.317  Z\" fill=\"#009af9\" fill-rule=\"evenodd\" fill-opacity=\"1\"/>\n",
       "<polyline clip-path=\"url(#clip792)\" style=\"stroke:#000000; stroke-linecap:round; stroke-linejoin:round; stroke-width:4; stroke-opacity:1; fill:none\" points=\"1263.89,262.317 1256.36,249.279 1241.3,249.279 1233.78,262.317 1241.3,275.355 1256.36,275.355 1263.89,262.317 \"/>\n",
       "<path clip-path=\"url(#clip792)\" d=\"M1441.37 557.182 L1433.84 544.144 L1418.78 544.144 L1411.26 557.182 L1418.78 570.22 L1433.84 570.22 L1441.37 557.182 L1441.37 557.182  Z\" fill=\"#009af9\" fill-rule=\"evenodd\" fill-opacity=\"1\"/>\n",
       "<polyline clip-path=\"url(#clip792)\" style=\"stroke:#000000; stroke-linecap:round; stroke-linejoin:round; stroke-width:4; stroke-opacity:1; fill:none\" points=\"1441.37,557.182 1433.84,544.144 1418.78,544.144 1411.26,557.182 1418.78,570.22 1433.84,570.22 1441.37,557.182 \"/>\n",
       "<path clip-path=\"url(#clip792)\" d=\"M1394.47 750.624 L1386.94 737.586 L1371.88 737.586 L1364.36 750.624 L1371.88 763.663 L1386.94 763.663 L1394.47 750.624 L1394.47 750.624  Z\" fill=\"#009af9\" fill-rule=\"evenodd\" fill-opacity=\"1\"/>\n",
       "<polyline clip-path=\"url(#clip792)\" style=\"stroke:#000000; stroke-linecap:round; stroke-linejoin:round; stroke-width:4; stroke-opacity:1; fill:none\" points=\"1394.47,750.624 1386.94,737.586 1371.88,737.586 1364.36,750.624 1371.88,763.663 1386.94,763.663 1394.47,750.624 \"/>\n",
       "<path clip-path=\"url(#clip792)\" d=\"M1585.57 825.139 L1578.04 812.101 L1562.99 812.101 L1555.46 825.139 L1562.99 838.177 L1578.04 838.177 L1585.57 825.139 L1585.57 825.139  Z\" fill=\"#009af9\" fill-rule=\"evenodd\" fill-opacity=\"1\"/>\n",
       "<polyline clip-path=\"url(#clip792)\" style=\"stroke:#000000; stroke-linecap:round; stroke-linejoin:round; stroke-width:4; stroke-opacity:1; fill:none\" points=\"1585.57,825.139 1578.04,812.101 1562.99,812.101 1555.46,825.139 1562.99,838.177 1578.04,838.177 1585.57,825.139 \"/>\n",
       "<path clip-path=\"url(#clip792)\" d=\"M1745.26 999.691 L1737.73 986.653 L1722.67 986.653 L1715.15 999.691 L1722.67 1012.73 L1737.73 1012.73 L1745.26 999.691 L1745.26 999.691  Z\" fill=\"#009af9\" fill-rule=\"evenodd\" fill-opacity=\"1\"/>\n",
       "<polyline clip-path=\"url(#clip792)\" style=\"stroke:#000000; stroke-linecap:round; stroke-linejoin:round; stroke-width:4; stroke-opacity:1; fill:none\" points=\"1745.26,999.691 1737.73,986.653 1722.67,986.653 1715.15,999.691 1722.67,1012.73 1737.73,1012.73 1745.26,999.691 \"/>\n",
       "<path clip-path=\"url(#clip792)\" d=\"M1644.79 1063.58 L1637.26 1050.54 L1622.2 1050.54 L1614.68 1063.58 L1622.2 1076.62 L1637.26 1076.62 L1644.79 1063.58 L1644.79 1063.58  Z\" fill=\"#009af9\" fill-rule=\"evenodd\" fill-opacity=\"1\"/>\n",
       "<polyline clip-path=\"url(#clip792)\" style=\"stroke:#000000; stroke-linecap:round; stroke-linejoin:round; stroke-width:4; stroke-opacity:1; fill:none\" points=\"1644.79,1063.58 1637.26,1050.54 1622.2,1050.54 1614.68,1063.58 1622.2,1076.62 1637.26,1076.62 1644.79,1063.58 \"/>\n",
       "<path clip-path=\"url(#clip792)\" d=\"M1556.03 1228.61 L1548.51 1215.57 L1533.45 1215.57 L1525.92 1228.61 L1533.45 1241.65 L1548.51 1241.65 L1556.03 1228.61 L1556.03 1228.61  Z\" fill=\"#009af9\" fill-rule=\"evenodd\" fill-opacity=\"1\"/>\n",
       "<polyline clip-path=\"url(#clip792)\" style=\"stroke:#000000; stroke-linecap:round; stroke-linejoin:round; stroke-width:4; stroke-opacity:1; fill:none\" points=\"1556.03,1228.61 1548.51,1215.57 1533.45,1215.57 1525.92,1228.61 1533.45,1241.65 1548.51,1241.65 1556.03,1228.61 \"/>\n",
       "<path clip-path=\"url(#clip792)\" d=\"M1752.74 1327.76 L1745.21 1314.72 L1730.16 1314.72 L1722.63 1327.76 L1730.16 1340.79 L1745.21 1340.79 L1752.74 1327.76 L1752.74 1327.76  Z\" fill=\"#009af9\" fill-rule=\"evenodd\" fill-opacity=\"1\"/>\n",
       "<polyline clip-path=\"url(#clip792)\" style=\"stroke:#000000; stroke-linecap:round; stroke-linejoin:round; stroke-width:4; stroke-opacity:1; fill:none\" points=\"1752.74,1327.76 1745.21,1314.72 1730.16,1314.72 1722.63,1327.76 1730.16,1340.79 1745.21,1340.79 1752.74,1327.76 \"/>\n",
       "<path clip-path=\"url(#clip792)\" d=\"M1095.87 575.774 L1088.34 562.736 L1073.29 562.736 L1065.76 575.774 L1073.29 588.813 L1088.34 588.813 L1095.87 575.774 L1095.87 575.774  Z\" fill=\"#009af9\" fill-rule=\"evenodd\" fill-opacity=\"1\"/>\n",
       "<polyline clip-path=\"url(#clip792)\" style=\"stroke:#000000; stroke-linecap:round; stroke-linejoin:round; stroke-width:4; stroke-opacity:1; fill:none\" points=\"1095.87,575.774 1088.34,562.736 1073.29,562.736 1065.76,575.774 1073.29,588.813 1088.34,588.813 1095.87,575.774 \"/>\n",
       "<path clip-path=\"url(#clip792)\" d=\"M950.312 782.296 L937.206 759.595 L910.993 759.595 L897.887 782.296 L910.993 804.997 L937.206 804.997 L950.312 782.296 L950.312 782.296  Z\" fill=\"#009af9\" fill-rule=\"evenodd\" fill-opacity=\"1\"/>\n",
       "<polyline clip-path=\"url(#clip792)\" style=\"stroke:#000000; stroke-linecap:round; stroke-linejoin:round; stroke-width:4; stroke-opacity:1; fill:none\" points=\"950.312,782.296 937.206,759.595 910.993,759.595 897.887,782.296 910.993,804.997 937.206,804.997 950.312,782.296 \"/>\n",
       "<path clip-path=\"url(#clip792)\" d=\"M803.317 965.635 L790.211 942.934 L763.998 942.934 L750.892 965.635 L763.998 988.335 L790.211 988.335 L803.317 965.635 L803.317 965.635  Z\" fill=\"#009af9\" fill-rule=\"evenodd\" fill-opacity=\"1\"/>\n",
       "<polyline clip-path=\"url(#clip792)\" style=\"stroke:#000000; stroke-linecap:round; stroke-linejoin:round; stroke-width:4; stroke-opacity:1; fill:none\" points=\"803.317,965.635 790.211,942.934 763.998,942.934 750.892,965.635 763.998,988.335 790.211,988.335 803.317,965.635 803.317,965.635 \"/>\n",
       "<path clip-path=\"url(#clip792)\" d=\"M817.716 1337.68 L804.61 1314.98 L778.397 1314.98 L765.291 1337.68 L778.397 1360.38 L804.61 1360.38 L817.716 1337.68 L817.716 1337.68  Z\" fill=\"#009af9\" fill-rule=\"evenodd\" fill-opacity=\"1\"/>\n",
       "<polyline clip-path=\"url(#clip792)\" style=\"stroke:#000000; stroke-linecap:round; stroke-linejoin:round; stroke-width:4; stroke-opacity:1; fill:none\" points=\"817.716,1337.68 804.61,1314.98 778.397,1314.98 765.291,1337.68 778.397,1360.38 804.61,1360.38 817.716,1337.68 \"/>\n",
       "<path clip-path=\"url(#clip792)\" d=\"M688.53 1226.68 L675.423 1203.98 L649.211 1203.98 L636.105 1226.68 L649.211 1249.38 L675.423 1249.38 L688.53 1226.68 L688.53 1226.68  Z\" fill=\"#009af9\" fill-rule=\"evenodd\" fill-opacity=\"1\"/>\n",
       "<polyline clip-path=\"url(#clip792)\" style=\"stroke:#000000; stroke-linecap:round; stroke-linejoin:round; stroke-width:4; stroke-opacity:1; fill:none\" points=\"688.53,1226.68 675.423,1203.98 649.211,1203.98 636.105,1226.68 649.211,1249.38 675.423,1249.38 688.53,1226.68 \"/>\n",
       "<path clip-path=\"url(#clip792)\" d=\"M990.526 1103.03 L977.42 1080.33 L951.208 1080.33 L938.101 1103.03 L951.208 1125.73 L977.42 1125.73 L990.526 1103.03 L990.526 1103.03  Z\" fill=\"#009af9\" fill-rule=\"evenodd\" fill-opacity=\"1\"/>\n",
       "<polyline clip-path=\"url(#clip792)\" style=\"stroke:#000000; stroke-linecap:round; stroke-linejoin:round; stroke-width:4; stroke-opacity:1; fill:none\" points=\"990.526,1103.03 977.42,1080.33 951.208,1080.33 938.101,1103.03 951.208,1125.73 977.42,1125.73 990.526,1103.03 \"/>\n",
       "<path clip-path=\"url(#clip792)\" d=\"M1144.2 808.887 L1131.1 786.186 L1104.88 786.186 L1091.78 808.887 L1104.88 831.588 L1131.1 831.588 L1144.2 808.887 L1144.2 808.887  Z\" fill=\"#009af9\" fill-rule=\"evenodd\" fill-opacity=\"1\"/>\n",
       "<polyline clip-path=\"url(#clip792)\" style=\"stroke:#000000; stroke-linecap:round; stroke-linejoin:round; stroke-width:4; stroke-opacity:1; fill:none\" points=\"1144.2,808.887 1131.1,786.186 1104.88,786.186 1091.78,808.887 1104.88,831.588 1131.1,831.588 1144.2,808.887 \"/>\n",
       "<path clip-path=\"url(#clip792)\" d=\"M1248.83 262.717 L1248.49 262.517 L1248.49 262.117 L1248.83 261.917 L1249.18 262.117 L1249.18 262.517 Z\" fill=\"#009af9\" fill-rule=\"evenodd\" fill-opacity=\"1\" stroke=\"#000000\" stroke-opacity=\"1\" stroke-width=\"3.2\"/>\n",
       "<path clip-path=\"url(#clip792)\" d=\"M1426.31 557.582 L1425.97 557.382 L1425.97 556.982 L1426.31 556.782 L1426.66 556.982 L1426.66 557.382 Z\" fill=\"#009af9\" fill-rule=\"evenodd\" fill-opacity=\"1\" stroke=\"#000000\" stroke-opacity=\"1\" stroke-width=\"3.2\"/>\n",
       "<path clip-path=\"url(#clip792)\" d=\"M1379.41 751.024 L1379.06 750.824 L1379.06 750.424 L1379.41 750.224 L1379.76 750.424 L1379.76 750.824 Z\" fill=\"#009af9\" fill-rule=\"evenodd\" fill-opacity=\"1\" stroke=\"#000000\" stroke-opacity=\"1\" stroke-width=\"3.2\"/>\n",
       "<path clip-path=\"url(#clip792)\" d=\"M1570.51 825.539 L1570.17 825.339 L1570.17 824.939 L1570.51 824.739 L1570.86 824.939 L1570.86 825.339 Z\" fill=\"#009af9\" fill-rule=\"evenodd\" fill-opacity=\"1\" stroke=\"#000000\" stroke-opacity=\"1\" stroke-width=\"3.2\"/>\n",
       "<path clip-path=\"url(#clip792)\" d=\"M1730.2 1000.09 L1729.86 999.891 L1729.86 999.491 L1730.2 999.291 L1730.55 999.491 L1730.55 999.891 Z\" fill=\"#009af9\" fill-rule=\"evenodd\" fill-opacity=\"1\" stroke=\"#000000\" stroke-opacity=\"1\" stroke-width=\"3.2\"/>\n",
       "<path clip-path=\"url(#clip792)\" d=\"M1629.73 1063.98 L1629.39 1063.78 L1629.39 1063.38 L1629.73 1063.18 L1630.08 1063.38 L1630.08 1063.78 Z\" fill=\"#009af9\" fill-rule=\"evenodd\" fill-opacity=\"1\" stroke=\"#000000\" stroke-opacity=\"1\" stroke-width=\"3.2\"/>\n",
       "<path clip-path=\"url(#clip792)\" d=\"M1540.98 1229.01 L1540.63 1228.81 L1540.63 1228.41 L1540.98 1228.21 L1541.33 1228.41 L1541.33 1228.81 Z\" fill=\"#009af9\" fill-rule=\"evenodd\" fill-opacity=\"1\" stroke=\"#000000\" stroke-opacity=\"1\" stroke-width=\"3.2\"/>\n",
       "<path clip-path=\"url(#clip792)\" d=\"M1737.68 1328.16 L1737.34 1327.96 L1737.34 1327.56 L1737.68 1327.36 L1738.03 1327.56 L1738.03 1327.96 Z\" fill=\"#009af9\" fill-rule=\"evenodd\" fill-opacity=\"1\" stroke=\"#000000\" stroke-opacity=\"1\" stroke-width=\"3.2\"/>\n",
       "<path clip-path=\"url(#clip792)\" d=\"M1080.82 576.174 L1080.47 575.974 L1080.47 575.574 L1080.82 575.374 L1081.16 575.574 L1081.16 575.974 Z\" fill=\"#009af9\" fill-rule=\"evenodd\" fill-opacity=\"1\" stroke=\"#000000\" stroke-opacity=\"1\" stroke-width=\"3.2\"/>\n",
       "<path clip-path=\"url(#clip792)\" d=\"M924.099 782.696 L923.753 782.496 L923.753 782.096 L924.099 781.896 L924.446 782.096 L924.446 782.496 Z\" fill=\"#009af9\" fill-rule=\"evenodd\" fill-opacity=\"1\" stroke=\"#000000\" stroke-opacity=\"1\" stroke-width=\"3.2\"/>\n",
       "<path clip-path=\"url(#clip792)\" d=\"M777.104 966.035 L776.758 965.835 L776.758 965.435 L777.104 965.235 L777.451 965.435 L777.451 965.835 Z\" fill=\"#009af9\" fill-rule=\"evenodd\" fill-opacity=\"1\" stroke=\"#000000\" stroke-opacity=\"1\" stroke-width=\"3.2\"/>\n",
       "<path clip-path=\"url(#clip792)\" d=\"M791.503 1338.08 L791.157 1337.88 L791.157 1337.48 L791.503 1337.28 L791.85 1337.48 L791.85 1337.88 Z\" fill=\"#009af9\" fill-rule=\"evenodd\" fill-opacity=\"1\" stroke=\"#000000\" stroke-opacity=\"1\" stroke-width=\"3.2\"/>\n",
       "<path clip-path=\"url(#clip792)\" d=\"M662.317 1227.08 L661.971 1226.88 L661.971 1226.48 L662.317 1226.28 L662.664 1226.48 L662.664 1226.88 Z\" fill=\"#009af9\" fill-rule=\"evenodd\" fill-opacity=\"1\" stroke=\"#000000\" stroke-opacity=\"1\" stroke-width=\"3.2\"/>\n",
       "<path clip-path=\"url(#clip792)\" d=\"M964.314 1103.43 L963.968 1103.23 L963.968 1102.83 L964.314 1102.63 L964.66 1102.83 L964.66 1103.23 Z\" fill=\"#009af9\" fill-rule=\"evenodd\" fill-opacity=\"1\" stroke=\"#000000\" stroke-opacity=\"1\" stroke-width=\"3.2\"/>\n",
       "<path clip-path=\"url(#clip792)\" d=\"M1117.99 809.287 L1117.64 809.087 L1117.64 808.687 L1117.99 808.487 L1118.34 808.687 L1118.34 809.087 Z\" fill=\"#009af9\" fill-rule=\"evenodd\" fill-opacity=\"1\" stroke=\"#000000\" stroke-opacity=\"1\" stroke-width=\"3.2\"/>\n",
       "<path clip-path=\"url(#clip790)\" d=\"M1240.42 273.994 L1247.1 273.994 L1247.1 250.924 L1239.83 252.382 L1239.83 248.656 L1247.06 247.197 L1251.15 247.197 L1251.15 273.994 L1257.84 273.994 L1257.84 277.437 L1240.42 277.437 L1240.42 273.994 Z\" fill=\"#000000\" fill-rule=\"nonzero\" fill-opacity=\"1\" /><path clip-path=\"url(#clip790)\" d=\"M1421.63 568.858 L1435.91 568.858 L1435.91 572.302 L1416.71 572.302 L1416.71 568.858 Q1419.04 566.448 1423.05 562.397 Q1427.08 558.326 1428.11 557.151 Q1430.08 554.944 1430.85 553.425 Q1431.64 551.885 1431.64 550.407 Q1431.64 547.996 1429.94 546.477 Q1428.26 544.958 1425.54 544.958 Q1423.62 544.958 1421.47 545.627 Q1419.34 546.295 1416.91 547.652 L1416.91 543.52 Q1419.39 542.528 1421.53 542.021 Q1423.68 541.515 1425.46 541.515 Q1430.16 541.515 1432.96 543.864 Q1435.75 546.214 1435.75 550.143 Q1435.75 552.007 1435.04 553.688 Q1434.35 555.349 1432.51 557.617 Q1432 558.205 1429.29 561.02 Q1426.58 563.815 1421.63 568.858 Z\" fill=\"#000000\" fill-rule=\"nonzero\" fill-opacity=\"1\" /><path clip-path=\"url(#clip790)\" d=\"M1383.13 749.44 Q1386.06 750.067 1387.7 752.052 Q1389.37 754.037 1389.37 756.954 Q1389.37 761.43 1386.29 763.881 Q1383.21 766.332 1377.54 766.332 Q1375.63 766.332 1373.61 765.947 Q1371.6 765.582 1369.46 764.833 L1369.46 760.883 Q1371.16 761.876 1373.18 762.382 Q1375.21 762.889 1377.42 762.889 Q1381.26 762.889 1383.27 761.369 Q1385.29 759.85 1385.29 756.954 Q1385.29 754.28 1383.41 752.782 Q1381.55 751.262 1378.21 751.262 L1374.68 751.262 L1374.68 747.9 L1378.37 747.9 Q1381.39 747.9 1382.99 746.705 Q1384.59 745.49 1384.59 743.221 Q1384.59 740.892 1382.92 739.657 Q1381.28 738.401 1378.21 738.401 Q1376.52 738.401 1374.6 738.765 Q1372.68 739.13 1370.37 739.9 L1370.37 736.254 Q1372.7 735.606 1374.72 735.282 Q1376.77 734.958 1378.57 734.958 Q1383.23 734.958 1385.94 737.084 Q1388.66 739.191 1388.66 742.796 Q1388.66 745.308 1387.22 747.049 Q1385.78 748.771 1383.13 749.44 Z\" fill=\"#000000\" fill-rule=\"nonzero\" fill-opacity=\"1\" /><path clip-path=\"url(#clip790)\" d=\"M1573.15 813.584 L1562.82 829.726 L1573.15 829.726 L1573.15 813.584 M1572.07 810.019 L1577.22 810.019 L1577.22 829.726 L1581.53 829.726 L1581.53 833.129 L1577.22 833.129 L1577.22 840.259 L1573.15 840.259 L1573.15 833.129 L1559.5 833.129 L1559.5 829.18 L1572.07 810.019 Z\" fill=\"#000000\" fill-rule=\"nonzero\" fill-opacity=\"1\" /><path clip-path=\"url(#clip790)\" d=\"M1721.69 984.571 L1737.76 984.571 L1737.76 988.014 L1725.44 988.014 L1725.44 995.427 Q1726.33 995.123 1727.22 994.982 Q1728.12 994.82 1729.01 994.82 Q1734.07 994.82 1737.03 997.595 Q1739.98 1000.37 1739.98 1005.11 Q1739.98 1009.99 1736.95 1012.7 Q1733.91 1015.4 1728.38 1015.4 Q1726.47 1015.4 1724.49 1015.07 Q1722.53 1014.75 1720.42 1014.1 L1720.42 1009.99 Q1722.24 1010.98 1724.19 1011.47 Q1726.13 1011.95 1728.3 1011.95 Q1731.8 1011.95 1733.85 1010.11 Q1735.89 1008.27 1735.89 1005.11 Q1735.89 1001.95 1733.85 1000.11 Q1731.8 998.263 1728.3 998.263 Q1726.66 998.263 1725.02 998.627 Q1723.4 998.992 1721.69 999.762 L1721.69 984.571 Z\" fill=\"#000000\" fill-rule=\"nonzero\" fill-opacity=\"1\" /><path clip-path=\"url(#clip790)\" d=\"M1630.09 1061.95 Q1627.33 1061.95 1625.71 1063.84 Q1624.11 1065.72 1624.11 1069 Q1624.11 1072.26 1625.71 1074.17 Q1627.33 1076.05 1630.09 1076.05 Q1632.84 1076.05 1634.44 1074.17 Q1636.06 1072.26 1636.06 1069 Q1636.06 1065.72 1634.44 1063.84 Q1632.84 1061.95 1630.09 1061.95 M1638.21 1049.13 L1638.21 1052.86 Q1636.67 1052.13 1635.09 1051.74 Q1633.53 1051.36 1631.99 1051.36 Q1627.94 1051.36 1625.79 1054.09 Q1623.67 1056.83 1623.36 1062.36 Q1624.56 1060.59 1626.36 1059.66 Q1628.16 1058.71 1630.33 1058.71 Q1634.89 1058.71 1637.52 1061.49 Q1640.17 1064.24 1640.17 1069 Q1640.17 1073.66 1637.42 1076.47 Q1634.66 1079.29 1630.09 1079.29 Q1624.84 1079.29 1622.07 1075.28 Q1619.29 1071.25 1619.29 1063.61 Q1619.29 1056.44 1622.69 1052.19 Q1626.1 1047.92 1631.83 1047.92 Q1633.37 1047.92 1634.93 1048.22 Q1636.51 1048.52 1638.21 1049.13 Z\" fill=\"#000000\" fill-rule=\"nonzero\" fill-opacity=\"1\" /><path clip-path=\"url(#clip790)\" d=\"M1531.26 1213.49 L1550.7 1213.49 L1550.7 1215.23 L1539.72 1243.73 L1535.45 1243.73 L1545.78 1216.94 L1531.26 1216.94 L1531.26 1213.49 Z\" fill=\"#000000\" fill-rule=\"nonzero\" fill-opacity=\"1\" /><path clip-path=\"url(#clip790)\" d=\"M1737.68 1328.52 Q1734.77 1328.52 1733.09 1330.08 Q1731.42 1331.63 1731.42 1334.37 Q1731.42 1337.1 1733.09 1338.66 Q1734.77 1340.22 1737.68 1340.22 Q1740.6 1340.22 1742.28 1338.66 Q1743.96 1337.08 1743.96 1334.37 Q1743.96 1331.63 1742.28 1330.08 Q1740.62 1328.52 1737.68 1328.52 M1733.59 1326.77 Q1730.96 1326.13 1729.48 1324.32 Q1728.02 1322.52 1728.02 1319.93 Q1728.02 1316.3 1730.59 1314.2 Q1733.19 1312.09 1737.68 1312.09 Q1742.2 1312.09 1744.77 1314.2 Q1747.34 1316.3 1747.34 1319.93 Q1747.34 1322.52 1745.87 1324.32 Q1744.41 1326.13 1741.79 1326.77 Q1744.75 1327.46 1746.39 1329.47 Q1748.05 1331.47 1748.05 1334.37 Q1748.05 1338.76 1745.36 1341.11 Q1742.69 1343.46 1737.68 1343.46 Q1732.68 1343.46 1729.99 1341.11 Q1727.31 1338.76 1727.31 1334.37 Q1727.31 1331.47 1728.97 1329.47 Q1730.63 1327.46 1733.59 1326.77 M1732.09 1320.31 Q1732.09 1322.66 1733.55 1323.98 Q1735.03 1325.3 1737.68 1325.3 Q1740.32 1325.3 1741.79 1323.98 Q1743.29 1322.66 1743.29 1320.31 Q1743.29 1317.96 1741.79 1316.65 Q1740.32 1315.33 1737.68 1315.33 Q1735.03 1315.33 1733.55 1316.65 Q1732.09 1317.96 1732.09 1320.31 Z\" fill=\"#000000\" fill-rule=\"nonzero\" fill-opacity=\"1\" /><path clip-path=\"url(#clip790)\" d=\"M1072.33 590.267 L1072.33 586.54 Q1073.87 587.269 1075.45 587.654 Q1077.03 588.039 1078.55 588.039 Q1082.6 588.039 1084.73 585.324 Q1086.87 582.59 1087.18 577.04 Q1086 578.782 1084.2 579.714 Q1082.4 580.646 1080.21 580.646 Q1075.67 580.646 1073.02 577.911 Q1070.39 575.157 1070.39 570.397 Q1070.39 565.738 1073.14 562.923 Q1075.89 560.108 1080.47 560.108 Q1085.72 560.108 1088.47 564.138 Q1091.25 568.149 1091.25 575.805 Q1091.25 582.955 1087.85 587.228 Q1084.46 591.482 1078.73 591.482 Q1077.19 591.482 1075.61 591.178 Q1074.03 590.874 1072.33 590.267 M1080.47 577.445 Q1083.23 577.445 1084.83 575.562 Q1086.45 573.678 1086.45 570.397 Q1086.45 567.136 1084.83 565.252 Q1083.23 563.348 1080.47 563.348 Q1077.72 563.348 1076.1 565.252 Q1074.5 567.136 1074.5 570.397 Q1074.5 573.678 1076.1 575.562 Q1077.72 577.445 1080.47 577.445 Z\" fill=\"#000000\" fill-rule=\"nonzero\" fill-opacity=\"1\" /><path clip-path=\"url(#clip790)\" d=\"M901.951 793.973 L908.635 793.973 L908.635 770.903 L901.364 772.361 L901.364 768.634 L908.595 767.176 L912.686 767.176 L912.686 793.973 L919.37 793.973 L919.37 797.416 L901.951 797.416 L901.951 793.973 Z\" fill=\"#000000\" fill-rule=\"nonzero\" fill-opacity=\"1\" /><path clip-path=\"url(#clip790)\" d=\"M936.384 769.87 Q933.224 769.87 931.624 772.989 Q930.044 776.088 930.044 782.326 Q930.044 788.545 931.624 791.664 Q933.224 794.763 936.384 794.763 Q939.564 794.763 941.144 791.664 Q942.744 788.545 942.744 782.326 Q942.744 776.088 941.144 772.989 Q939.564 769.87 936.384 769.87 M936.384 766.629 Q941.468 766.629 944.141 770.66 Q946.835 774.67 946.835 782.326 Q946.835 789.962 944.141 793.993 Q941.468 798.003 936.384 798.003 Q931.3 798.003 928.606 793.993 Q925.932 789.962 925.932 782.326 Q925.932 774.67 928.606 770.66 Q931.3 766.629 936.384 766.629 Z\" fill=\"#000000\" fill-rule=\"nonzero\" fill-opacity=\"1\" /><path clip-path=\"url(#clip790)\" d=\"M755.493 977.311 L762.177 977.311 L762.177 954.242 L754.905 955.7 L754.905 951.973 L762.136 950.515 L766.228 950.515 L766.228 977.311 L772.912 977.311 L772.912 980.755 L755.493 980.755 L755.493 977.311 Z\" fill=\"#000000\" fill-rule=\"nonzero\" fill-opacity=\"1\" /><path clip-path=\"url(#clip790)\" d=\"M781.884 977.311 L788.568 977.311 L788.568 954.242 L781.297 955.7 L781.297 951.973 L788.528 950.515 L792.619 950.515 L792.619 977.311 L799.303 977.311 L799.303 980.755 L781.884 980.755 L781.884 977.311 Z\" fill=\"#000000\" fill-rule=\"nonzero\" fill-opacity=\"1\" /><path clip-path=\"url(#clip790)\" d=\"M770.054 1349.36 L776.738 1349.36 L776.738 1326.29 L769.466 1327.75 L769.466 1324.02 L776.697 1322.56 L780.789 1322.56 L780.789 1349.36 L787.473 1349.36 L787.473 1352.8 L770.054 1352.8 L770.054 1349.36 Z\" fill=\"#000000\" fill-rule=\"nonzero\" fill-opacity=\"1\" /><path clip-path=\"url(#clip790)\" d=\"M799.261 1349.36 L813.54 1349.36 L813.54 1352.8 L794.339 1352.8 L794.339 1349.36 Q796.668 1346.95 800.679 1342.9 Q804.709 1338.83 805.742 1337.65 Q807.707 1335.44 808.477 1333.93 Q809.267 1332.39 809.267 1330.91 Q809.267 1328.5 807.565 1326.98 Q805.884 1325.46 803.17 1325.46 Q801.246 1325.46 799.099 1326.13 Q796.972 1326.8 794.542 1328.15 L794.542 1324.02 Q797.013 1323.03 799.16 1322.52 Q801.307 1322.02 803.089 1322.02 Q807.788 1322.02 810.583 1324.37 Q813.378 1326.71 813.378 1330.64 Q813.378 1332.51 812.669 1334.19 Q811.981 1335.85 810.138 1338.12 Q809.631 1338.71 806.917 1341.52 Q804.203 1344.32 799.261 1349.36 Z\" fill=\"#000000\" fill-rule=\"nonzero\" fill-opacity=\"1\" /><path clip-path=\"url(#clip790)\" d=\"M640.452 1238.36 L647.136 1238.36 L647.136 1215.29 L639.865 1216.75 L639.865 1213.02 L647.096 1211.56 L651.187 1211.56 L651.187 1238.36 L657.871 1238.36 L657.871 1241.8 L640.452 1241.8 L640.452 1238.36 Z\" fill=\"#000000\" fill-rule=\"nonzero\" fill-opacity=\"1\" /><path clip-path=\"url(#clip790)\" d=\"M678.531 1225.5 Q681.468 1226.13 683.108 1228.11 Q684.769 1230.1 684.769 1233.01 Q684.769 1237.49 681.691 1239.94 Q678.612 1242.39 672.941 1242.39 Q671.037 1242.39 669.011 1242.01 Q667.006 1241.64 664.859 1240.89 L664.859 1236.94 Q666.561 1237.93 668.586 1238.44 Q670.611 1238.95 672.819 1238.95 Q676.668 1238.95 678.673 1237.43 Q680.698 1235.91 680.698 1233.01 Q680.698 1230.34 678.815 1228.84 Q676.951 1227.32 673.609 1227.32 L670.085 1227.32 L670.085 1223.96 L673.771 1223.96 Q676.789 1223.96 678.389 1222.76 Q679.989 1221.55 679.989 1219.28 Q679.989 1216.95 678.328 1215.72 Q676.688 1214.46 673.609 1214.46 Q671.928 1214.46 670.004 1214.82 Q668.08 1215.19 665.771 1215.96 L665.771 1212.31 Q668.1 1211.66 670.125 1211.34 Q672.171 1211.02 673.974 1211.02 Q678.632 1211.02 681.346 1213.14 Q684.06 1215.25 684.06 1218.86 Q684.06 1221.37 682.622 1223.11 Q681.184 1224.83 678.531 1225.5 Z\" fill=\"#000000\" fill-rule=\"nonzero\" fill-opacity=\"1\" /><path clip-path=\"url(#clip790)\" d=\"M941.953 1114.71 L948.637 1114.71 L948.637 1091.64 L941.366 1093.1 L941.366 1089.37 L948.596 1087.91 L952.688 1087.91 L952.688 1114.71 L959.372 1114.71 L959.372 1118.15 L941.953 1118.15 L941.953 1114.71 Z\" fill=\"#000000\" fill-rule=\"nonzero\" fill-opacity=\"1\" /><path clip-path=\"url(#clip790)\" d=\"M978.877 1091.48 L968.547 1107.62 L978.877 1107.62 L978.877 1091.48 M977.803 1087.91 L982.948 1087.91 L982.948 1107.62 L987.262 1107.62 L987.262 1111.02 L982.948 1111.02 L982.948 1118.15 L978.877 1118.15 L978.877 1111.02 L965.225 1111.02 L965.225 1107.07 L977.803 1087.91 Z\" fill=\"#000000\" fill-rule=\"nonzero\" fill-opacity=\"1\" /><path clip-path=\"url(#clip790)\" d=\"M1096.28 820.564 L1102.96 820.564 L1102.96 797.494 L1095.69 798.952 L1095.69 795.225 L1102.92 793.767 L1107.01 793.767 L1107.01 820.564 L1113.7 820.564 L1113.7 824.007 L1096.28 824.007 L1096.28 820.564 Z\" fill=\"#000000\" fill-rule=\"nonzero\" fill-opacity=\"1\" /><path clip-path=\"url(#clip790)\" d=\"M1122 793.767 L1138.06 793.767 L1138.06 797.21 L1125.75 797.21 L1125.75 804.623 Q1126.64 804.32 1127.53 804.178 Q1128.42 804.016 1129.31 804.016 Q1134.38 804.016 1137.33 806.791 Q1140.29 809.565 1140.29 814.305 Q1140.29 819.186 1137.25 821.9 Q1134.21 824.594 1128.68 824.594 Q1126.78 824.594 1124.8 824.27 Q1122.83 823.946 1120.72 823.298 L1120.72 819.186 Q1122.55 820.179 1124.49 820.665 Q1126.44 821.151 1128.6 821.151 Q1132.11 821.151 1134.15 819.308 Q1136.2 817.465 1136.2 814.305 Q1136.2 811.145 1134.15 809.302 Q1132.11 807.459 1128.6 807.459 Q1126.96 807.459 1125.32 807.824 Q1123.7 808.188 1122 808.958 L1122 793.767 Z\" fill=\"#000000\" fill-rule=\"nonzero\" fill-opacity=\"1\" /></svg>\n"
      ],
      "text/html": [
       "<?xml version=\"1.0\" encoding=\"utf-8\"?>\n",
       "<svg xmlns=\"http://www.w3.org/2000/svg\" xmlns:xlink=\"http://www.w3.org/1999/xlink\" width=\"600\" height=\"400\" viewBox=\"0 0 2400 1600\">\n",
       "<defs>\n",
       "  <clipPath id=\"clip820\">\n",
       "    <rect x=\"0\" y=\"0\" width=\"2400\" height=\"1600\"/>\n",
       "  </clipPath>\n",
       "</defs>\n",
       "<path clip-path=\"url(#clip820)\" d=\"M0 1600 L2400 1600 L2400 0 L0 0  Z\" fill=\"#ffffff\" fill-rule=\"evenodd\" fill-opacity=\"1\"/>\n",
       "<defs>\n",
       "  <clipPath id=\"clip821\">\n",
       "    <rect x=\"480\" y=\"0\" width=\"1681\" height=\"1600\"/>\n",
       "  </clipPath>\n",
       "</defs>\n",
       "<path clip-path=\"url(#clip820)\" d=\"M447.244 1552.76 L1952.76 1552.76 L1952.76 47.2441 L447.244 47.2441  Z\" fill=\"#ffffff\" fill-rule=\"evenodd\" fill-opacity=\"1\"/>\n",
       "<defs>\n",
       "  <clipPath id=\"clip822\">\n",
       "    <rect x=\"447\" y=\"47\" width=\"1507\" height=\"1507\"/>\n",
       "  </clipPath>\n",
       "</defs>\n",
       "<polyline clip-path=\"url(#clip822)\" style=\"stroke:#000000; stroke-linecap:round; stroke-linejoin:round; stroke-width:4; stroke-opacity:1; fill:none\" points=\"1248.83,262.317 1249.45,272.946 1251.25,283.476 1254.14,293.915 1258.03,304.269 1262.84,314.547 1268.48,324.755 1274.86,334.9 1281.9,344.991 1289.5,355.035 1297.59,365.038 1306.07,375.008 1314.85,384.952 1323.85,394.878 1332.98,404.794 1342.16,414.705 1351.29,424.62 1360.29,434.547 1369.08,444.491 1377.56,454.461 1385.64,464.464 1393.25,474.508 1400.28,484.598 1406.66,494.744 1412.3,504.952 1417.11,515.23 1421.01,525.584 1423.9,536.023 1425.69,546.553 1426.31,557.182 \"/>\n",
       "<polyline clip-path=\"url(#clip822)\" style=\"stroke:#000000; stroke-linecap:round; stroke-linejoin:round; stroke-width:4; stroke-opacity:1; fill:none\" points=\"1426.31,557.182 1426.15,563.409 1425.67,569.731 1424.91,576.141 1423.88,582.632 1422.61,589.197 1421.12,595.829 1419.43,602.52 1417.57,609.265 1415.56,616.055 1413.43,622.883 1411.19,629.744 1408.87,636.629 1406.49,643.532 1404.07,650.445 1401.65,657.361 1399.24,664.275 1396.86,671.177 1394.54,678.062 1392.3,684.923 1390.16,691.751 1388.15,698.541 1386.29,705.286 1384.6,711.977 1383.11,718.609 1381.84,725.174 1380.81,731.665 1380.05,738.075 1379.57,744.397 1379.41,750.624 \"/>\n",
       "<polyline clip-path=\"url(#clip822)\" style=\"stroke:#000000; stroke-linecap:round; stroke-linejoin:round; stroke-width:4; stroke-opacity:1; fill:none\" points=\"1426.31,557.182 1426.81,566.605 1428.28,575.989 1430.62,585.336 1433.79,594.65 1437.69,603.934 1442.28,613.189 1447.46,622.421 1453.18,631.63 1459.36,640.82 1465.93,649.995 1472.81,659.156 1479.95,668.308 1487.26,677.452 1494.69,686.591 1502.14,695.729 1509.56,704.869 1516.87,714.013 1524.01,723.164 1530.9,732.326 1537.47,741.5 1543.65,750.691 1549.36,759.9 1554.55,769.131 1559.13,778.387 1563.04,787.671 1566.2,796.985 1568.55,806.332 1570.01,815.716 1570.51,825.139 \"/>\n",
       "<polyline clip-path=\"url(#clip822)\" style=\"stroke:#000000; stroke-linecap:round; stroke-linejoin:round; stroke-width:4; stroke-opacity:1; fill:none\" points=\"1570.51,825.139 1571.07,832.347 1572.69,839.301 1575.29,846.018 1578.79,852.519 1583.12,858.821 1588.19,864.944 1593.93,870.906 1600.27,876.727 1607.11,882.425 1614.38,888.019 1622.01,893.529 1629.91,898.972 1638.01,904.368 1646.23,909.736 1654.49,915.094 1662.7,920.462 1670.8,925.858 1678.71,931.301 1686.33,936.81 1693.61,942.405 1700.45,948.103 1706.78,953.924 1712.52,959.886 1717.6,966.009 1721.93,972.311 1725.43,978.812 1728.03,985.529 1729.64,992.483 1730.2,999.691 \"/>\n",
       "<polyline clip-path=\"url(#clip822)\" style=\"stroke:#000000; stroke-linecap:round; stroke-linejoin:round; stroke-width:4; stroke-opacity:1; fill:none\" points=\"1570.51,825.139 1570.72,832.824 1571.32,840.624 1572.28,848.531 1573.58,856.536 1575.19,864.63 1577.07,872.805 1579.2,881.053 1581.55,889.365 1584.08,897.732 1586.78,906.146 1589.61,914.598 1592.54,923.08 1595.54,931.584 1598.59,940.1 1601.65,948.621 1604.7,957.137 1607.7,965.64 1610.64,974.123 1613.46,982.575 1616.16,990.989 1618.7,999.356 1621.05,1007.67 1623.18,1015.92 1625.06,1024.09 1626.66,1032.19 1627.96,1040.19 1628.93,1048.1 1629.53,1055.9 1629.73,1063.58 \"/>\n",
       "<polyline clip-path=\"url(#clip822)\" style=\"stroke:#000000; stroke-linecap:round; stroke-linejoin:round; stroke-width:4; stroke-opacity:1; fill:none\" points=\"1629.73,1063.58 1629.42,1069.38 1628.52,1075.16 1627.08,1080.92 1625.13,1086.66 1622.73,1092.37 1619.91,1098.07 1616.72,1103.76 1613.2,1109.43 1609.39,1115.09 1605.35,1120.74 1601.11,1126.38 1596.72,1132.02 1592.22,1137.65 1587.65,1143.28 1583.06,1148.91 1578.49,1154.54 1573.99,1160.17 1569.6,1165.81 1565.36,1171.45 1561.32,1177.1 1557.52,1182.76 1554,1188.43 1550.8,1194.12 1547.98,1199.82 1545.58,1205.54 1543.63,1211.27 1542.19,1217.03 1541.29,1222.81 1540.98,1228.61 \"/>\n",
       "<polyline clip-path=\"url(#clip822)\" style=\"stroke:#000000; stroke-linecap:round; stroke-linejoin:round; stroke-width:4; stroke-opacity:1; fill:none\" points=\"1629.73,1063.58 1630.11,1072.46 1631.2,1081.4 1632.96,1090.37 1635.33,1099.39 1638.25,1108.44 1641.68,1117.53 1645.56,1126.65 1649.84,1135.8 1654.47,1144.97 1659.39,1154.16 1664.54,1163.37 1669.89,1172.59 1675.36,1181.82 1680.92,1191.05 1686.5,1200.29 1692.05,1209.52 1697.53,1218.75 1702.87,1227.97 1708.03,1237.18 1712.94,1246.37 1717.57,1255.54 1721.85,1264.68 1725.73,1273.8 1729.16,1282.89 1732.09,1291.95 1734.46,1300.97 1736.21,1309.94 1737.31,1318.87 1737.68,1327.76 \"/>\n",
       "<polyline clip-path=\"url(#clip822)\" style=\"stroke:#000000; stroke-linecap:round; stroke-linejoin:round; stroke-width:4; stroke-opacity:1; fill:none\" points=\"1248.83,262.317 1248.25,273.331 1246.55,284.302 1243.81,295.231 1240.12,306.123 1235.57,316.981 1230.23,327.808 1224.19,338.607 1217.53,349.381 1210.33,360.135 1202.68,370.87 1194.65,381.591 1186.34,392.301 1177.81,403.002 1169.17,413.698 1160.48,424.393 1151.84,435.09 1143.31,445.791 1135,456.5 1126.97,467.221 1119.32,477.957 1112.12,488.71 1105.46,499.485 1099.42,510.284 1094.08,521.111 1089.52,531.969 1085.84,542.861 1083.1,553.79 1081.4,564.76 1080.82,575.774 \"/>\n",
       "<polyline clip-path=\"url(#clip822)\" style=\"stroke:#000000; stroke-linecap:round; stroke-linejoin:round; stroke-width:4; stroke-opacity:1; fill:none\" points=\"1080.82,575.774 1080.27,583.727 1078.68,591.501 1076.13,599.111 1072.69,606.568 1068.45,613.888 1063.47,621.081 1057.83,628.163 1051.62,635.146 1044.9,642.044 1037.76,648.868 1030.28,655.634 1022.52,662.353 1014.57,669.039 1006.51,675.705 998.407,682.365 990.342,689.032 982.394,695.718 974.638,702.437 967.152,709.202 960.013,716.027 953.298,722.924 947.084,729.907 941.449,736.989 936.469,744.183 932.222,751.502 928.784,758.96 926.233,766.569 924.646,774.344 924.099,782.296 \"/>\n",
       "<polyline clip-path=\"url(#clip822)\" style=\"stroke:#000000; stroke-linecap:round; stroke-linejoin:round; stroke-width:4; stroke-opacity:1; fill:none\" points=\"924.099,782.296 923.587,789.491 922.098,796.498 919.706,803.333 916.481,810.008 912.497,816.538 907.826,822.936 902.54,829.217 896.712,835.393 890.414,841.48 883.718,847.49 876.696,853.438 869.422,859.338 861.966,865.203 854.402,871.047 846.802,876.884 839.238,882.728 831.782,888.593 824.508,894.493 817.486,900.441 810.79,906.451 804.492,912.537 798.663,918.714 793.378,924.995 788.707,931.393 784.723,937.923 781.498,944.598 779.105,951.432 777.617,958.44 777.104,965.635 \"/>\n",
       "<polyline clip-path=\"url(#clip822)\" style=\"stroke:#000000; stroke-linecap:round; stroke-linejoin:round; stroke-width:4; stroke-opacity:1; fill:none\" points=\"777.104,965.635 777.155,977.318 777.3,989.248 777.535,1001.4 777.851,1013.77 778.241,1026.33 778.698,1039.06 779.216,1051.94 779.787,1064.96 780.404,1078.1 781.06,1091.34 781.748,1104.66 782.46,1118.04 783.191,1131.47 783.932,1144.93 784.676,1158.39 785.417,1171.85 786.147,1185.28 786.86,1198.66 787.548,1211.98 788.204,1225.22 788.821,1238.36 789.392,1251.38 789.909,1264.26 790.367,1276.99 790.757,1289.55 791.073,1301.91 791.307,1314.07 791.453,1326 791.503,1337.68 \"/>\n",
       "<polyline clip-path=\"url(#clip822)\" style=\"stroke:#000000; stroke-linecap:round; stroke-linejoin:round; stroke-width:4; stroke-opacity:1; fill:none\" points=\"777.104,965.635 776.704,974.5 775.542,983.395 773.673,992.317 771.155,1001.26 768.044,1010.23 764.397,1019.22 760.269,1028.23 755.718,1037.25 750.8,1046.29 745.571,1055.34 740.088,1064.4 734.407,1073.47 728.585,1082.54 722.678,1091.62 716.743,1100.7 710.837,1109.77 705.015,1118.85 699.334,1127.91 693.851,1136.97 688.622,1146.03 683.704,1155.06 679.152,1164.09 675.025,1173.1 671.377,1182.09 668.266,1191.06 665.748,1200 663.88,1208.92 662.717,1217.82 662.317,1226.68 \"/>\n",
       "<polyline clip-path=\"url(#clip822)\" style=\"stroke:#000000; stroke-linecap:round; stroke-linejoin:round; stroke-width:4; stroke-opacity:1; fill:none\" points=\"924.099,782.296 924.24,792.432 924.647,802.766 925.301,813.283 926.184,823.969 927.274,834.808 928.551,845.788 929.997,856.892 931.592,868.106 933.315,879.415 935.147,890.805 937.068,902.261 939.058,913.768 941.098,925.312 943.167,936.878 945.246,948.451 947.316,960.017 949.355,971.561 951.345,983.069 953.266,994.525 955.098,1005.91 956.821,1017.22 958.416,1028.44 959.862,1039.54 961.14,1050.52 962.23,1061.36 963.112,1072.05 963.766,1082.56 964.174,1092.9 964.314,1103.03 \"/>\n",
       "<polyline clip-path=\"url(#clip822)\" style=\"stroke:#000000; stroke-linecap:round; stroke-linejoin:round; stroke-width:4; stroke-opacity:1; fill:none\" points=\"1080.82,575.774 1080.95,583.172 1081.32,590.708 1081.93,598.37 1082.74,606.149 1083.75,614.035 1084.93,622.017 1086.27,630.086 1087.74,638.231 1089.34,646.442 1091.03,654.71 1092.8,663.022 1094.64,671.371 1096.53,679.745 1098.44,688.134 1100.36,696.528 1102.28,704.917 1104.16,713.291 1106,721.639 1107.78,729.952 1109.47,738.219 1111.06,746.43 1112.54,754.575 1113.88,762.644 1115.06,770.627 1116.06,778.512 1116.88,786.292 1117.48,793.954 1117.86,801.489 1117.99,808.887 \"/>\n",
       "<path clip-path=\"url(#clip822)\" d=\"M1263.89 262.317 L1256.36 249.279 L1241.3 249.279 L1233.78 262.317 L1241.3 275.355 L1256.36 275.355 L1263.89 262.317 L1263.89 262.317  Z\" fill=\"#009af9\" fill-rule=\"evenodd\" fill-opacity=\"1\"/>\n",
       "<polyline clip-path=\"url(#clip822)\" style=\"stroke:#000000; stroke-linecap:round; stroke-linejoin:round; stroke-width:4; stroke-opacity:1; fill:none\" points=\"1263.89,262.317 1256.36,249.279 1241.3,249.279 1233.78,262.317 1241.3,275.355 1256.36,275.355 1263.89,262.317 \"/>\n",
       "<path clip-path=\"url(#clip822)\" d=\"M1441.37 557.182 L1433.84 544.144 L1418.78 544.144 L1411.26 557.182 L1418.78 570.22 L1433.84 570.22 L1441.37 557.182 L1441.37 557.182  Z\" fill=\"#009af9\" fill-rule=\"evenodd\" fill-opacity=\"1\"/>\n",
       "<polyline clip-path=\"url(#clip822)\" style=\"stroke:#000000; stroke-linecap:round; stroke-linejoin:round; stroke-width:4; stroke-opacity:1; fill:none\" points=\"1441.37,557.182 1433.84,544.144 1418.78,544.144 1411.26,557.182 1418.78,570.22 1433.84,570.22 1441.37,557.182 \"/>\n",
       "<path clip-path=\"url(#clip822)\" d=\"M1394.47 750.624 L1386.94 737.586 L1371.88 737.586 L1364.36 750.624 L1371.88 763.663 L1386.94 763.663 L1394.47 750.624 L1394.47 750.624  Z\" fill=\"#009af9\" fill-rule=\"evenodd\" fill-opacity=\"1\"/>\n",
       "<polyline clip-path=\"url(#clip822)\" style=\"stroke:#000000; stroke-linecap:round; stroke-linejoin:round; stroke-width:4; stroke-opacity:1; fill:none\" points=\"1394.47,750.624 1386.94,737.586 1371.88,737.586 1364.36,750.624 1371.88,763.663 1386.94,763.663 1394.47,750.624 \"/>\n",
       "<path clip-path=\"url(#clip822)\" d=\"M1585.57 825.139 L1578.04 812.101 L1562.99 812.101 L1555.46 825.139 L1562.99 838.177 L1578.04 838.177 L1585.57 825.139 L1585.57 825.139  Z\" fill=\"#009af9\" fill-rule=\"evenodd\" fill-opacity=\"1\"/>\n",
       "<polyline clip-path=\"url(#clip822)\" style=\"stroke:#000000; stroke-linecap:round; stroke-linejoin:round; stroke-width:4; stroke-opacity:1; fill:none\" points=\"1585.57,825.139 1578.04,812.101 1562.99,812.101 1555.46,825.139 1562.99,838.177 1578.04,838.177 1585.57,825.139 \"/>\n",
       "<path clip-path=\"url(#clip822)\" d=\"M1745.26 999.691 L1737.73 986.653 L1722.67 986.653 L1715.15 999.691 L1722.67 1012.73 L1737.73 1012.73 L1745.26 999.691 L1745.26 999.691  Z\" fill=\"#009af9\" fill-rule=\"evenodd\" fill-opacity=\"1\"/>\n",
       "<polyline clip-path=\"url(#clip822)\" style=\"stroke:#000000; stroke-linecap:round; stroke-linejoin:round; stroke-width:4; stroke-opacity:1; fill:none\" points=\"1745.26,999.691 1737.73,986.653 1722.67,986.653 1715.15,999.691 1722.67,1012.73 1737.73,1012.73 1745.26,999.691 \"/>\n",
       "<path clip-path=\"url(#clip822)\" d=\"M1644.79 1063.58 L1637.26 1050.54 L1622.2 1050.54 L1614.68 1063.58 L1622.2 1076.62 L1637.26 1076.62 L1644.79 1063.58 L1644.79 1063.58  Z\" fill=\"#009af9\" fill-rule=\"evenodd\" fill-opacity=\"1\"/>\n",
       "<polyline clip-path=\"url(#clip822)\" style=\"stroke:#000000; stroke-linecap:round; stroke-linejoin:round; stroke-width:4; stroke-opacity:1; fill:none\" points=\"1644.79,1063.58 1637.26,1050.54 1622.2,1050.54 1614.68,1063.58 1622.2,1076.62 1637.26,1076.62 1644.79,1063.58 \"/>\n",
       "<path clip-path=\"url(#clip822)\" d=\"M1556.03 1228.61 L1548.51 1215.57 L1533.45 1215.57 L1525.92 1228.61 L1533.45 1241.65 L1548.51 1241.65 L1556.03 1228.61 L1556.03 1228.61  Z\" fill=\"#009af9\" fill-rule=\"evenodd\" fill-opacity=\"1\"/>\n",
       "<polyline clip-path=\"url(#clip822)\" style=\"stroke:#000000; stroke-linecap:round; stroke-linejoin:round; stroke-width:4; stroke-opacity:1; fill:none\" points=\"1556.03,1228.61 1548.51,1215.57 1533.45,1215.57 1525.92,1228.61 1533.45,1241.65 1548.51,1241.65 1556.03,1228.61 \"/>\n",
       "<path clip-path=\"url(#clip822)\" d=\"M1752.74 1327.76 L1745.21 1314.72 L1730.16 1314.72 L1722.63 1327.76 L1730.16 1340.79 L1745.21 1340.79 L1752.74 1327.76 L1752.74 1327.76  Z\" fill=\"#009af9\" fill-rule=\"evenodd\" fill-opacity=\"1\"/>\n",
       "<polyline clip-path=\"url(#clip822)\" style=\"stroke:#000000; stroke-linecap:round; stroke-linejoin:round; stroke-width:4; stroke-opacity:1; fill:none\" points=\"1752.74,1327.76 1745.21,1314.72 1730.16,1314.72 1722.63,1327.76 1730.16,1340.79 1745.21,1340.79 1752.74,1327.76 \"/>\n",
       "<path clip-path=\"url(#clip822)\" d=\"M1095.87 575.774 L1088.34 562.736 L1073.29 562.736 L1065.76 575.774 L1073.29 588.813 L1088.34 588.813 L1095.87 575.774 L1095.87 575.774  Z\" fill=\"#009af9\" fill-rule=\"evenodd\" fill-opacity=\"1\"/>\n",
       "<polyline clip-path=\"url(#clip822)\" style=\"stroke:#000000; stroke-linecap:round; stroke-linejoin:round; stroke-width:4; stroke-opacity:1; fill:none\" points=\"1095.87,575.774 1088.34,562.736 1073.29,562.736 1065.76,575.774 1073.29,588.813 1088.34,588.813 1095.87,575.774 \"/>\n",
       "<path clip-path=\"url(#clip822)\" d=\"M950.312 782.296 L937.206 759.595 L910.993 759.595 L897.887 782.296 L910.993 804.997 L937.206 804.997 L950.312 782.296 L950.312 782.296  Z\" fill=\"#009af9\" fill-rule=\"evenodd\" fill-opacity=\"1\"/>\n",
       "<polyline clip-path=\"url(#clip822)\" style=\"stroke:#000000; stroke-linecap:round; stroke-linejoin:round; stroke-width:4; stroke-opacity:1; fill:none\" points=\"950.312,782.296 937.206,759.595 910.993,759.595 897.887,782.296 910.993,804.997 937.206,804.997 950.312,782.296 \"/>\n",
       "<path clip-path=\"url(#clip822)\" d=\"M803.317 965.635 L790.211 942.934 L763.998 942.934 L750.892 965.635 L763.998 988.335 L790.211 988.335 L803.317 965.635 L803.317 965.635  Z\" fill=\"#009af9\" fill-rule=\"evenodd\" fill-opacity=\"1\"/>\n",
       "<polyline clip-path=\"url(#clip822)\" style=\"stroke:#000000; stroke-linecap:round; stroke-linejoin:round; stroke-width:4; stroke-opacity:1; fill:none\" points=\"803.317,965.635 790.211,942.934 763.998,942.934 750.892,965.635 763.998,988.335 790.211,988.335 803.317,965.635 803.317,965.635 \"/>\n",
       "<path clip-path=\"url(#clip822)\" d=\"M817.716 1337.68 L804.61 1314.98 L778.397 1314.98 L765.291 1337.68 L778.397 1360.38 L804.61 1360.38 L817.716 1337.68 L817.716 1337.68  Z\" fill=\"#009af9\" fill-rule=\"evenodd\" fill-opacity=\"1\"/>\n",
       "<polyline clip-path=\"url(#clip822)\" style=\"stroke:#000000; stroke-linecap:round; stroke-linejoin:round; stroke-width:4; stroke-opacity:1; fill:none\" points=\"817.716,1337.68 804.61,1314.98 778.397,1314.98 765.291,1337.68 778.397,1360.38 804.61,1360.38 817.716,1337.68 \"/>\n",
       "<path clip-path=\"url(#clip822)\" d=\"M688.53 1226.68 L675.423 1203.98 L649.211 1203.98 L636.105 1226.68 L649.211 1249.38 L675.423 1249.38 L688.53 1226.68 L688.53 1226.68  Z\" fill=\"#009af9\" fill-rule=\"evenodd\" fill-opacity=\"1\"/>\n",
       "<polyline clip-path=\"url(#clip822)\" style=\"stroke:#000000; stroke-linecap:round; stroke-linejoin:round; stroke-width:4; stroke-opacity:1; fill:none\" points=\"688.53,1226.68 675.423,1203.98 649.211,1203.98 636.105,1226.68 649.211,1249.38 675.423,1249.38 688.53,1226.68 \"/>\n",
       "<path clip-path=\"url(#clip822)\" d=\"M990.526 1103.03 L977.42 1080.33 L951.208 1080.33 L938.101 1103.03 L951.208 1125.73 L977.42 1125.73 L990.526 1103.03 L990.526 1103.03  Z\" fill=\"#009af9\" fill-rule=\"evenodd\" fill-opacity=\"1\"/>\n",
       "<polyline clip-path=\"url(#clip822)\" style=\"stroke:#000000; stroke-linecap:round; stroke-linejoin:round; stroke-width:4; stroke-opacity:1; fill:none\" points=\"990.526,1103.03 977.42,1080.33 951.208,1080.33 938.101,1103.03 951.208,1125.73 977.42,1125.73 990.526,1103.03 \"/>\n",
       "<path clip-path=\"url(#clip822)\" d=\"M1144.2 808.887 L1131.1 786.186 L1104.88 786.186 L1091.78 808.887 L1104.88 831.588 L1131.1 831.588 L1144.2 808.887 L1144.2 808.887  Z\" fill=\"#009af9\" fill-rule=\"evenodd\" fill-opacity=\"1\"/>\n",
       "<polyline clip-path=\"url(#clip822)\" style=\"stroke:#000000; stroke-linecap:round; stroke-linejoin:round; stroke-width:4; stroke-opacity:1; fill:none\" points=\"1144.2,808.887 1131.1,786.186 1104.88,786.186 1091.78,808.887 1104.88,831.588 1131.1,831.588 1144.2,808.887 \"/>\n",
       "<path clip-path=\"url(#clip822)\" d=\"M1248.83 262.717 L1248.49 262.517 L1248.49 262.117 L1248.83 261.917 L1249.18 262.117 L1249.18 262.517 Z\" fill=\"#009af9\" fill-rule=\"evenodd\" fill-opacity=\"1\" stroke=\"#000000\" stroke-opacity=\"1\" stroke-width=\"3.2\"/>\n",
       "<path clip-path=\"url(#clip822)\" d=\"M1426.31 557.582 L1425.97 557.382 L1425.97 556.982 L1426.31 556.782 L1426.66 556.982 L1426.66 557.382 Z\" fill=\"#009af9\" fill-rule=\"evenodd\" fill-opacity=\"1\" stroke=\"#000000\" stroke-opacity=\"1\" stroke-width=\"3.2\"/>\n",
       "<path clip-path=\"url(#clip822)\" d=\"M1379.41 751.024 L1379.06 750.824 L1379.06 750.424 L1379.41 750.224 L1379.76 750.424 L1379.76 750.824 Z\" fill=\"#009af9\" fill-rule=\"evenodd\" fill-opacity=\"1\" stroke=\"#000000\" stroke-opacity=\"1\" stroke-width=\"3.2\"/>\n",
       "<path clip-path=\"url(#clip822)\" d=\"M1570.51 825.539 L1570.17 825.339 L1570.17 824.939 L1570.51 824.739 L1570.86 824.939 L1570.86 825.339 Z\" fill=\"#009af9\" fill-rule=\"evenodd\" fill-opacity=\"1\" stroke=\"#000000\" stroke-opacity=\"1\" stroke-width=\"3.2\"/>\n",
       "<path clip-path=\"url(#clip822)\" d=\"M1730.2 1000.09 L1729.86 999.891 L1729.86 999.491 L1730.2 999.291 L1730.55 999.491 L1730.55 999.891 Z\" fill=\"#009af9\" fill-rule=\"evenodd\" fill-opacity=\"1\" stroke=\"#000000\" stroke-opacity=\"1\" stroke-width=\"3.2\"/>\n",
       "<path clip-path=\"url(#clip822)\" d=\"M1629.73 1063.98 L1629.39 1063.78 L1629.39 1063.38 L1629.73 1063.18 L1630.08 1063.38 L1630.08 1063.78 Z\" fill=\"#009af9\" fill-rule=\"evenodd\" fill-opacity=\"1\" stroke=\"#000000\" stroke-opacity=\"1\" stroke-width=\"3.2\"/>\n",
       "<path clip-path=\"url(#clip822)\" d=\"M1540.98 1229.01 L1540.63 1228.81 L1540.63 1228.41 L1540.98 1228.21 L1541.33 1228.41 L1541.33 1228.81 Z\" fill=\"#009af9\" fill-rule=\"evenodd\" fill-opacity=\"1\" stroke=\"#000000\" stroke-opacity=\"1\" stroke-width=\"3.2\"/>\n",
       "<path clip-path=\"url(#clip822)\" d=\"M1737.68 1328.16 L1737.34 1327.96 L1737.34 1327.56 L1737.68 1327.36 L1738.03 1327.56 L1738.03 1327.96 Z\" fill=\"#009af9\" fill-rule=\"evenodd\" fill-opacity=\"1\" stroke=\"#000000\" stroke-opacity=\"1\" stroke-width=\"3.2\"/>\n",
       "<path clip-path=\"url(#clip822)\" d=\"M1080.82 576.174 L1080.47 575.974 L1080.47 575.574 L1080.82 575.374 L1081.16 575.574 L1081.16 575.974 Z\" fill=\"#009af9\" fill-rule=\"evenodd\" fill-opacity=\"1\" stroke=\"#000000\" stroke-opacity=\"1\" stroke-width=\"3.2\"/>\n",
       "<path clip-path=\"url(#clip822)\" d=\"M924.099 782.696 L923.753 782.496 L923.753 782.096 L924.099 781.896 L924.446 782.096 L924.446 782.496 Z\" fill=\"#009af9\" fill-rule=\"evenodd\" fill-opacity=\"1\" stroke=\"#000000\" stroke-opacity=\"1\" stroke-width=\"3.2\"/>\n",
       "<path clip-path=\"url(#clip822)\" d=\"M777.104 966.035 L776.758 965.835 L776.758 965.435 L777.104 965.235 L777.451 965.435 L777.451 965.835 Z\" fill=\"#009af9\" fill-rule=\"evenodd\" fill-opacity=\"1\" stroke=\"#000000\" stroke-opacity=\"1\" stroke-width=\"3.2\"/>\n",
       "<path clip-path=\"url(#clip822)\" d=\"M791.503 1338.08 L791.157 1337.88 L791.157 1337.48 L791.503 1337.28 L791.85 1337.48 L791.85 1337.88 Z\" fill=\"#009af9\" fill-rule=\"evenodd\" fill-opacity=\"1\" stroke=\"#000000\" stroke-opacity=\"1\" stroke-width=\"3.2\"/>\n",
       "<path clip-path=\"url(#clip822)\" d=\"M662.317 1227.08 L661.971 1226.88 L661.971 1226.48 L662.317 1226.28 L662.664 1226.48 L662.664 1226.88 Z\" fill=\"#009af9\" fill-rule=\"evenodd\" fill-opacity=\"1\" stroke=\"#000000\" stroke-opacity=\"1\" stroke-width=\"3.2\"/>\n",
       "<path clip-path=\"url(#clip822)\" d=\"M964.314 1103.43 L963.968 1103.23 L963.968 1102.83 L964.314 1102.63 L964.66 1102.83 L964.66 1103.23 Z\" fill=\"#009af9\" fill-rule=\"evenodd\" fill-opacity=\"1\" stroke=\"#000000\" stroke-opacity=\"1\" stroke-width=\"3.2\"/>\n",
       "<path clip-path=\"url(#clip822)\" d=\"M1117.99 809.287 L1117.64 809.087 L1117.64 808.687 L1117.99 808.487 L1118.34 808.687 L1118.34 809.087 Z\" fill=\"#009af9\" fill-rule=\"evenodd\" fill-opacity=\"1\" stroke=\"#000000\" stroke-opacity=\"1\" stroke-width=\"3.2\"/>\n",
       "<path clip-path=\"url(#clip820)\" d=\"M1240.42 273.994 L1247.1 273.994 L1247.1 250.924 L1239.83 252.382 L1239.83 248.656 L1247.06 247.197 L1251.15 247.197 L1251.15 273.994 L1257.84 273.994 L1257.84 277.437 L1240.42 277.437 L1240.42 273.994 Z\" fill=\"#000000\" fill-rule=\"nonzero\" fill-opacity=\"1\" /><path clip-path=\"url(#clip820)\" d=\"M1421.63 568.858 L1435.91 568.858 L1435.91 572.302 L1416.71 572.302 L1416.71 568.858 Q1419.04 566.448 1423.05 562.397 Q1427.08 558.326 1428.11 557.151 Q1430.08 554.944 1430.85 553.425 Q1431.64 551.885 1431.64 550.407 Q1431.64 547.996 1429.94 546.477 Q1428.26 544.958 1425.54 544.958 Q1423.62 544.958 1421.47 545.627 Q1419.34 546.295 1416.91 547.652 L1416.91 543.52 Q1419.39 542.528 1421.53 542.021 Q1423.68 541.515 1425.46 541.515 Q1430.16 541.515 1432.96 543.864 Q1435.75 546.214 1435.75 550.143 Q1435.75 552.007 1435.04 553.688 Q1434.35 555.349 1432.51 557.617 Q1432 558.205 1429.29 561.02 Q1426.58 563.815 1421.63 568.858 Z\" fill=\"#000000\" fill-rule=\"nonzero\" fill-opacity=\"1\" /><path clip-path=\"url(#clip820)\" d=\"M1383.13 749.44 Q1386.06 750.067 1387.7 752.052 Q1389.37 754.037 1389.37 756.954 Q1389.37 761.43 1386.29 763.881 Q1383.21 766.332 1377.54 766.332 Q1375.63 766.332 1373.61 765.947 Q1371.6 765.582 1369.46 764.833 L1369.46 760.883 Q1371.16 761.876 1373.18 762.382 Q1375.21 762.889 1377.42 762.889 Q1381.26 762.889 1383.27 761.369 Q1385.29 759.85 1385.29 756.954 Q1385.29 754.28 1383.41 752.782 Q1381.55 751.262 1378.21 751.262 L1374.68 751.262 L1374.68 747.9 L1378.37 747.9 Q1381.39 747.9 1382.99 746.705 Q1384.59 745.49 1384.59 743.221 Q1384.59 740.892 1382.92 739.657 Q1381.28 738.401 1378.21 738.401 Q1376.52 738.401 1374.6 738.765 Q1372.68 739.13 1370.37 739.9 L1370.37 736.254 Q1372.7 735.606 1374.72 735.282 Q1376.77 734.958 1378.57 734.958 Q1383.23 734.958 1385.94 737.084 Q1388.66 739.191 1388.66 742.796 Q1388.66 745.308 1387.22 747.049 Q1385.78 748.771 1383.13 749.44 Z\" fill=\"#000000\" fill-rule=\"nonzero\" fill-opacity=\"1\" /><path clip-path=\"url(#clip820)\" d=\"M1573.15 813.584 L1562.82 829.726 L1573.15 829.726 L1573.15 813.584 M1572.07 810.019 L1577.22 810.019 L1577.22 829.726 L1581.53 829.726 L1581.53 833.129 L1577.22 833.129 L1577.22 840.259 L1573.15 840.259 L1573.15 833.129 L1559.5 833.129 L1559.5 829.18 L1572.07 810.019 Z\" fill=\"#000000\" fill-rule=\"nonzero\" fill-opacity=\"1\" /><path clip-path=\"url(#clip820)\" d=\"M1721.69 984.571 L1737.76 984.571 L1737.76 988.014 L1725.44 988.014 L1725.44 995.427 Q1726.33 995.123 1727.22 994.982 Q1728.12 994.82 1729.01 994.82 Q1734.07 994.82 1737.03 997.595 Q1739.98 1000.37 1739.98 1005.11 Q1739.98 1009.99 1736.95 1012.7 Q1733.91 1015.4 1728.38 1015.4 Q1726.47 1015.4 1724.49 1015.07 Q1722.53 1014.75 1720.42 1014.1 L1720.42 1009.99 Q1722.24 1010.98 1724.19 1011.47 Q1726.13 1011.95 1728.3 1011.95 Q1731.8 1011.95 1733.85 1010.11 Q1735.89 1008.27 1735.89 1005.11 Q1735.89 1001.95 1733.85 1000.11 Q1731.8 998.263 1728.3 998.263 Q1726.66 998.263 1725.02 998.627 Q1723.4 998.992 1721.69 999.762 L1721.69 984.571 Z\" fill=\"#000000\" fill-rule=\"nonzero\" fill-opacity=\"1\" /><path clip-path=\"url(#clip820)\" d=\"M1630.09 1061.95 Q1627.33 1061.95 1625.71 1063.84 Q1624.11 1065.72 1624.11 1069 Q1624.11 1072.26 1625.71 1074.17 Q1627.33 1076.05 1630.09 1076.05 Q1632.84 1076.05 1634.44 1074.17 Q1636.06 1072.26 1636.06 1069 Q1636.06 1065.72 1634.44 1063.84 Q1632.84 1061.95 1630.09 1061.95 M1638.21 1049.13 L1638.21 1052.86 Q1636.67 1052.13 1635.09 1051.74 Q1633.53 1051.36 1631.99 1051.36 Q1627.94 1051.36 1625.79 1054.09 Q1623.67 1056.83 1623.36 1062.36 Q1624.56 1060.59 1626.36 1059.66 Q1628.16 1058.71 1630.33 1058.71 Q1634.89 1058.71 1637.52 1061.49 Q1640.17 1064.24 1640.17 1069 Q1640.17 1073.66 1637.42 1076.47 Q1634.66 1079.29 1630.09 1079.29 Q1624.84 1079.29 1622.07 1075.28 Q1619.29 1071.25 1619.29 1063.61 Q1619.29 1056.44 1622.69 1052.19 Q1626.1 1047.92 1631.83 1047.92 Q1633.37 1047.92 1634.93 1048.22 Q1636.51 1048.52 1638.21 1049.13 Z\" fill=\"#000000\" fill-rule=\"nonzero\" fill-opacity=\"1\" /><path clip-path=\"url(#clip820)\" d=\"M1531.26 1213.49 L1550.7 1213.49 L1550.7 1215.23 L1539.72 1243.73 L1535.45 1243.73 L1545.78 1216.94 L1531.26 1216.94 L1531.26 1213.49 Z\" fill=\"#000000\" fill-rule=\"nonzero\" fill-opacity=\"1\" /><path clip-path=\"url(#clip820)\" d=\"M1737.68 1328.52 Q1734.77 1328.52 1733.09 1330.08 Q1731.42 1331.63 1731.42 1334.37 Q1731.42 1337.1 1733.09 1338.66 Q1734.77 1340.22 1737.68 1340.22 Q1740.6 1340.22 1742.28 1338.66 Q1743.96 1337.08 1743.96 1334.37 Q1743.96 1331.63 1742.28 1330.08 Q1740.62 1328.52 1737.68 1328.52 M1733.59 1326.77 Q1730.96 1326.13 1729.48 1324.32 Q1728.02 1322.52 1728.02 1319.93 Q1728.02 1316.3 1730.59 1314.2 Q1733.19 1312.09 1737.68 1312.09 Q1742.2 1312.09 1744.77 1314.2 Q1747.34 1316.3 1747.34 1319.93 Q1747.34 1322.52 1745.87 1324.32 Q1744.41 1326.13 1741.79 1326.77 Q1744.75 1327.46 1746.39 1329.47 Q1748.05 1331.47 1748.05 1334.37 Q1748.05 1338.76 1745.36 1341.11 Q1742.69 1343.46 1737.68 1343.46 Q1732.68 1343.46 1729.99 1341.11 Q1727.31 1338.76 1727.31 1334.37 Q1727.31 1331.47 1728.97 1329.47 Q1730.63 1327.46 1733.59 1326.77 M1732.09 1320.31 Q1732.09 1322.66 1733.55 1323.98 Q1735.03 1325.3 1737.68 1325.3 Q1740.32 1325.3 1741.79 1323.98 Q1743.29 1322.66 1743.29 1320.31 Q1743.29 1317.96 1741.79 1316.65 Q1740.32 1315.33 1737.68 1315.33 Q1735.03 1315.33 1733.55 1316.65 Q1732.09 1317.96 1732.09 1320.31 Z\" fill=\"#000000\" fill-rule=\"nonzero\" fill-opacity=\"1\" /><path clip-path=\"url(#clip820)\" d=\"M1072.33 590.267 L1072.33 586.54 Q1073.87 587.269 1075.45 587.654 Q1077.03 588.039 1078.55 588.039 Q1082.6 588.039 1084.73 585.324 Q1086.87 582.59 1087.18 577.04 Q1086 578.782 1084.2 579.714 Q1082.4 580.646 1080.21 580.646 Q1075.67 580.646 1073.02 577.911 Q1070.39 575.157 1070.39 570.397 Q1070.39 565.738 1073.14 562.923 Q1075.89 560.108 1080.47 560.108 Q1085.72 560.108 1088.47 564.138 Q1091.25 568.149 1091.25 575.805 Q1091.25 582.955 1087.85 587.228 Q1084.46 591.482 1078.73 591.482 Q1077.19 591.482 1075.61 591.178 Q1074.03 590.874 1072.33 590.267 M1080.47 577.445 Q1083.23 577.445 1084.83 575.562 Q1086.45 573.678 1086.45 570.397 Q1086.45 567.136 1084.83 565.252 Q1083.23 563.348 1080.47 563.348 Q1077.72 563.348 1076.1 565.252 Q1074.5 567.136 1074.5 570.397 Q1074.5 573.678 1076.1 575.562 Q1077.72 577.445 1080.47 577.445 Z\" fill=\"#000000\" fill-rule=\"nonzero\" fill-opacity=\"1\" /><path clip-path=\"url(#clip820)\" d=\"M901.951 793.973 L908.635 793.973 L908.635 770.903 L901.364 772.361 L901.364 768.634 L908.595 767.176 L912.686 767.176 L912.686 793.973 L919.37 793.973 L919.37 797.416 L901.951 797.416 L901.951 793.973 Z\" fill=\"#000000\" fill-rule=\"nonzero\" fill-opacity=\"1\" /><path clip-path=\"url(#clip820)\" d=\"M936.384 769.87 Q933.224 769.87 931.624 772.989 Q930.044 776.088 930.044 782.326 Q930.044 788.545 931.624 791.664 Q933.224 794.763 936.384 794.763 Q939.564 794.763 941.144 791.664 Q942.744 788.545 942.744 782.326 Q942.744 776.088 941.144 772.989 Q939.564 769.87 936.384 769.87 M936.384 766.629 Q941.468 766.629 944.141 770.66 Q946.835 774.67 946.835 782.326 Q946.835 789.962 944.141 793.993 Q941.468 798.003 936.384 798.003 Q931.3 798.003 928.606 793.993 Q925.932 789.962 925.932 782.326 Q925.932 774.67 928.606 770.66 Q931.3 766.629 936.384 766.629 Z\" fill=\"#000000\" fill-rule=\"nonzero\" fill-opacity=\"1\" /><path clip-path=\"url(#clip820)\" d=\"M755.493 977.311 L762.177 977.311 L762.177 954.242 L754.905 955.7 L754.905 951.973 L762.136 950.515 L766.228 950.515 L766.228 977.311 L772.912 977.311 L772.912 980.755 L755.493 980.755 L755.493 977.311 Z\" fill=\"#000000\" fill-rule=\"nonzero\" fill-opacity=\"1\" /><path clip-path=\"url(#clip820)\" d=\"M781.884 977.311 L788.568 977.311 L788.568 954.242 L781.297 955.7 L781.297 951.973 L788.528 950.515 L792.619 950.515 L792.619 977.311 L799.303 977.311 L799.303 980.755 L781.884 980.755 L781.884 977.311 Z\" fill=\"#000000\" fill-rule=\"nonzero\" fill-opacity=\"1\" /><path clip-path=\"url(#clip820)\" d=\"M770.054 1349.36 L776.738 1349.36 L776.738 1326.29 L769.466 1327.75 L769.466 1324.02 L776.697 1322.56 L780.789 1322.56 L780.789 1349.36 L787.473 1349.36 L787.473 1352.8 L770.054 1352.8 L770.054 1349.36 Z\" fill=\"#000000\" fill-rule=\"nonzero\" fill-opacity=\"1\" /><path clip-path=\"url(#clip820)\" d=\"M799.261 1349.36 L813.54 1349.36 L813.54 1352.8 L794.339 1352.8 L794.339 1349.36 Q796.668 1346.95 800.679 1342.9 Q804.709 1338.83 805.742 1337.65 Q807.707 1335.44 808.477 1333.93 Q809.267 1332.39 809.267 1330.91 Q809.267 1328.5 807.565 1326.98 Q805.884 1325.46 803.17 1325.46 Q801.246 1325.46 799.099 1326.13 Q796.972 1326.8 794.542 1328.15 L794.542 1324.02 Q797.013 1323.03 799.16 1322.52 Q801.307 1322.02 803.089 1322.02 Q807.788 1322.02 810.583 1324.37 Q813.378 1326.71 813.378 1330.64 Q813.378 1332.51 812.669 1334.19 Q811.981 1335.85 810.138 1338.12 Q809.631 1338.71 806.917 1341.52 Q804.203 1344.32 799.261 1349.36 Z\" fill=\"#000000\" fill-rule=\"nonzero\" fill-opacity=\"1\" /><path clip-path=\"url(#clip820)\" d=\"M640.452 1238.36 L647.136 1238.36 L647.136 1215.29 L639.865 1216.75 L639.865 1213.02 L647.096 1211.56 L651.187 1211.56 L651.187 1238.36 L657.871 1238.36 L657.871 1241.8 L640.452 1241.8 L640.452 1238.36 Z\" fill=\"#000000\" fill-rule=\"nonzero\" fill-opacity=\"1\" /><path clip-path=\"url(#clip820)\" d=\"M678.531 1225.5 Q681.468 1226.13 683.108 1228.11 Q684.769 1230.1 684.769 1233.01 Q684.769 1237.49 681.691 1239.94 Q678.612 1242.39 672.941 1242.39 Q671.037 1242.39 669.011 1242.01 Q667.006 1241.64 664.859 1240.89 L664.859 1236.94 Q666.561 1237.93 668.586 1238.44 Q670.611 1238.95 672.819 1238.95 Q676.668 1238.95 678.673 1237.43 Q680.698 1235.91 680.698 1233.01 Q680.698 1230.34 678.815 1228.84 Q676.951 1227.32 673.609 1227.32 L670.085 1227.32 L670.085 1223.96 L673.771 1223.96 Q676.789 1223.96 678.389 1222.76 Q679.989 1221.55 679.989 1219.28 Q679.989 1216.95 678.328 1215.72 Q676.688 1214.46 673.609 1214.46 Q671.928 1214.46 670.004 1214.82 Q668.08 1215.19 665.771 1215.96 L665.771 1212.31 Q668.1 1211.66 670.125 1211.34 Q672.171 1211.02 673.974 1211.02 Q678.632 1211.02 681.346 1213.14 Q684.06 1215.25 684.06 1218.86 Q684.06 1221.37 682.622 1223.11 Q681.184 1224.83 678.531 1225.5 Z\" fill=\"#000000\" fill-rule=\"nonzero\" fill-opacity=\"1\" /><path clip-path=\"url(#clip820)\" d=\"M941.953 1114.71 L948.637 1114.71 L948.637 1091.64 L941.366 1093.1 L941.366 1089.37 L948.596 1087.91 L952.688 1087.91 L952.688 1114.71 L959.372 1114.71 L959.372 1118.15 L941.953 1118.15 L941.953 1114.71 Z\" fill=\"#000000\" fill-rule=\"nonzero\" fill-opacity=\"1\" /><path clip-path=\"url(#clip820)\" d=\"M978.877 1091.48 L968.547 1107.62 L978.877 1107.62 L978.877 1091.48 M977.803 1087.91 L982.948 1087.91 L982.948 1107.62 L987.262 1107.62 L987.262 1111.02 L982.948 1111.02 L982.948 1118.15 L978.877 1118.15 L978.877 1111.02 L965.225 1111.02 L965.225 1107.07 L977.803 1087.91 Z\" fill=\"#000000\" fill-rule=\"nonzero\" fill-opacity=\"1\" /><path clip-path=\"url(#clip820)\" d=\"M1096.28 820.564 L1102.96 820.564 L1102.96 797.494 L1095.69 798.952 L1095.69 795.225 L1102.92 793.767 L1107.01 793.767 L1107.01 820.564 L1113.7 820.564 L1113.7 824.007 L1096.28 824.007 L1096.28 820.564 Z\" fill=\"#000000\" fill-rule=\"nonzero\" fill-opacity=\"1\" /><path clip-path=\"url(#clip820)\" d=\"M1122 793.767 L1138.06 793.767 L1138.06 797.21 L1125.75 797.21 L1125.75 804.623 Q1126.64 804.32 1127.53 804.178 Q1128.42 804.016 1129.31 804.016 Q1134.38 804.016 1137.33 806.791 Q1140.29 809.565 1140.29 814.305 Q1140.29 819.186 1137.25 821.9 Q1134.21 824.594 1128.68 824.594 Q1126.78 824.594 1124.8 824.27 Q1122.83 823.946 1120.72 823.298 L1120.72 819.186 Q1122.55 820.179 1124.49 820.665 Q1126.44 821.151 1128.6 821.151 Q1132.11 821.151 1134.15 819.308 Q1136.2 817.465 1136.2 814.305 Q1136.2 811.145 1134.15 809.302 Q1132.11 807.459 1128.6 807.459 Q1126.96 807.459 1125.32 807.824 Q1123.7 808.188 1122 808.958 L1122 793.767 Z\" fill=\"#000000\" fill-rule=\"nonzero\" fill-opacity=\"1\" /></svg>\n"
      ]
     },
     "metadata": {},
     "output_type": "display_data"
    },
    {
     "name": "stdout",
     "output_type": "stream",
     "text": [
      "\n",
      "Node number 1: \n",
      "---------------\n",
      "\n",
      "Max 42 x[1] + 40 x[2] + 12 x[3] + 25 x[4]\n",
      "Subject to\n",
      " 7 x[1] + 4 x[2] + 3 x[3] + 5 x[4] ≤ 10\n",
      " x[1] ≥ 1\n",
      " x[2] ≥ 0\n",
      " x[3] ≥ 0\n",
      " x[4] ≥ 0\n",
      " x[1] ≤ 1\n",
      " x[2] ≤ 1\n",
      " x[3] ≤ 1\n",
      " x[4] ≤ 1\n",
      "\n",
      "Solve the LP model of the current node to compute its bound: start ... ... end\n",
      ": Solution LP 72.0\tx[1]=1.0\tx[2]=0.7500000000000001\tx[3]=0.0\tx[4]=0.0 \n",
      "\n",
      "Previous Solution memorized Float64[] with bestprofit -1.0\n",
      "\n",
      "non sondable\n",
      "\n",
      "branch on object 2\n",
      "\n",
      "\n",
      "Node number 2: \n",
      "---------------\n",
      "\n",
      "Max 42 x[1] + 40 x[2] + 12 x[3] + 25 x[4]\n",
      "Subject to\n",
      " 7 x[1] + 4 x[2] + 3 x[3] + 5 x[4] ≤ 10\n",
      " x[1] ≥ 1\n",
      " x[2] ≥ 1\n",
      " x[3] ≥ 0\n",
      " x[4] ≥ 0\n",
      " x[1] ≤ 1\n",
      " x[2] ≤ 1\n",
      " x[3] ≤ 1\n",
      " x[4] ≤ 1\n",
      "\n",
      "Solve the LP model of the current node to compute its bound: start ... ... end\n",
      ": Solution LP : NOT AVAILABLE (probably infeasible or ressources limit reached) \n",
      "\n",
      "Previous Solution memorized Float64[] with bestprofit -1.0\n",
      "\n",
      "TA\n",
      "\n",
      "Node number 3: \n",
      "---------------\n",
      "\n",
      "Max 42 x[1] + 40 x[2] + 12 x[3] + 25 x[4]\n",
      "Subject to\n",
      " 7 x[1] + 4 x[2] + 3 x[3] + 5 x[4] ≤ 10\n",
      " x[1] ≥ 1\n",
      " x[2] ≥ 0\n",
      " x[3] ≥ 0\n",
      " x[4] ≥ 0\n",
      " x[1] ≤ 1\n",
      " x[2] ≤ 0\n",
      " x[3] ≤ 1\n",
      " x[4] ≤ 1\n",
      "\n",
      "Solve the LP model of the current node to compute its bound: start ... ... end\n",
      ": Solution LP 57.0\tx[1]=1.0\tx[2]=0.0\tx[3]=0.0\tx[4]=0.6 \n",
      "\n",
      "Previous Solution memorized Float64[] with bestprofit -1.0\n",
      "\n",
      "non sondable\n",
      "\n",
      "branch on object 3\n",
      "\n",
      "\n",
      "Node number 4: \n",
      "---------------\n",
      "\n",
      "Max 42 x[1] + 40 x[2] + 12 x[3] + 25 x[4]\n",
      "Subject to\n",
      " 7 x[1] + 4 x[2] + 3 x[3] + 5 x[4] ≤ 10\n",
      " x[1] ≥ 1\n",
      " x[2] ≥ 0\n",
      " x[3] ≥ 1\n",
      " x[4] ≥ 0\n",
      " x[1] ≤ 1\n",
      " x[2] ≤ 0\n",
      " x[3] ≤ 1\n",
      " x[4] ≤ 1\n",
      "\n",
      "Solve the LP model of the current node to compute its bound: start ... ... end\n",
      ": Solution LP 54.0\tx[1]=1.0\tx[2]=0.0\tx[3]=1.0\tx[4]=0.0 \n",
      "\n",
      "Previous Solution memorized Float64[] with bestprofit -1.0\n",
      "\n",
      "TR\n",
      "\n",
      "New Solution memorized [1.0, 0.0, 1.0, 0.0] with bestprofit 54.0\n",
      "\n",
      "\n",
      "Node number 5: \n",
      "---------------\n",
      "\n",
      "Max 42 x[1] + 40 x[2] + 12 x[3] + 25 x[4]\n",
      "Subject to\n",
      " 7 x[1] + 4 x[2] + 3 x[3] + 5 x[4] ≤ 10\n",
      " x[1] ≥ 1\n",
      " x[2] ≥ 0\n",
      " x[3] ≥ 0\n",
      " x[4] ≥ 0\n",
      " x[1] ≤ 1\n",
      " x[2] ≤ 0\n",
      " x[3] ≤ 0\n",
      " x[4] ≤ 1\n",
      "\n",
      "Solve the LP model of the current node to compute its bound: start ... ... end\n",
      ": Solution LP 57.0\tx[1]=1.0\tx[2]=0.0\tx[3]=0.0\tx[4]=0.6 \n",
      "\n",
      "Previous Solution memorized [1.0, 0.0, 1.0, 0.0] with bestprofit 54.0\n",
      "\n",
      "non sondable\n",
      "\n",
      "branch on object 4\n",
      "\n",
      "\n",
      "Node number 6: \n",
      "---------------\n",
      "\n",
      "Max 42 x[1] + 40 x[2] + 12 x[3] + 25 x[4]\n",
      "Subject to\n",
      " 7 x[1] + 4 x[2] + 3 x[3] + 5 x[4] ≤ 10\n",
      " x[1] ≥ 1\n",
      " x[2] ≥ 0\n",
      " x[3] ≥ 0\n",
      " x[4] ≥ 1\n",
      " x[1] ≤ 1\n",
      " x[2] ≤ 0\n",
      " x[3] ≤ 0\n",
      " x[4] ≤ 1\n",
      "\n",
      "Solve the LP model of the current node to compute its bound: start ... ... end\n",
      ": Solution LP : NOT AVAILABLE (probably infeasible or ressources limit reached) \n",
      "\n",
      "Previous Solution memorized [1.0, 0.0, 1.0, 0.0] with bestprofit 54.0\n",
      "\n",
      "TA\n",
      "\n",
      "Node number 7: \n",
      "---------------\n",
      "\n",
      "Max 42 x[1] + 40 x[2] + 12 x[3] + 25 x[4]\n",
      "Subject to\n",
      " 7 x[1] + 4 x[2] + 3 x[3] + 5 x[4] ≤ 10\n",
      " x[1] ≥ 1\n",
      " x[2] ≥ 0\n",
      " x[3] ≥ 0\n",
      " x[4] ≥ 0\n",
      " x[1] ≤ 1\n",
      " x[2] ≤ 0\n",
      " x[3] ≤ 0\n",
      " x[4] ≤ 0\n",
      "\n",
      "Solve the LP model of the current node to compute its bound: start ... ... end\n",
      ": Solution LP 42.0\tx[1]=1.0\tx[2]=0.0\tx[3]=0.0\tx[4]=0.0 \n",
      "\n",
      "Previous Solution memorized [1.0, 0.0, 1.0, 0.0] with bestprofit 54.0\n",
      "\n",
      "TO\n",
      "\n",
      "Node number 8: \n",
      "---------------\n",
      "\n",
      "Max 42 x[1] + 40 x[2] + 12 x[3] + 25 x[4]\n",
      "Subject to\n",
      " 7 x[1] + 4 x[2] + 3 x[3] + 5 x[4] ≤ 10\n",
      " x[1] ≥ 0\n",
      " x[2] ≥ 0\n",
      " x[3] ≥ 0\n",
      " x[4] ≥ 0\n",
      " x[1] ≤ 0\n",
      " x[2] ≤ 1\n",
      " x[3] ≤ 1\n",
      " x[4] ≤ 1\n",
      "\n",
      "Solve the LP model of the current node to compute its bound: start ... ... end\n",
      ": Solution LP 69.0\tx[1]=0.0\tx[2]=1.0\tx[3]=0.3333333333333332\tx[4]=1.0 \n",
      "\n",
      "Previous Solution memorized [1.0, 0.0, 1.0, 0.0] with bestprofit 54.0\n",
      "\n",
      "non sondable\n",
      "\n",
      "branch on object 2\n",
      "\n",
      "\n",
      "Node number 9: \n",
      "---------------\n",
      "\n",
      "Max 42 x[1] + 40 x[2] + 12 x[3] + 25 x[4]\n",
      "Subject to\n",
      " 7 x[1] + 4 x[2] + 3 x[3] + 5 x[4] ≤ 10\n",
      " x[1] ≥ 0\n",
      " x[2] ≥ 1\n",
      " x[3] ≥ 0\n",
      " x[4] ≥ 0\n",
      " x[1] ≤ 0\n",
      " x[2] ≤ 1\n",
      " x[3] ≤ 1\n",
      " x[4] ≤ 1\n",
      "\n",
      "Solve the LP model of the current node to compute its bound: start ... ... end\n",
      ": Solution LP 69.0\tx[1]=0.0\tx[2]=1.0\tx[3]=0.3333333333333336\tx[4]=1.0 \n",
      "\n",
      "Previous Solution memorized [1.0, 0.0, 1.0, 0.0] with bestprofit 54.0\n",
      "\n",
      "non sondable\n",
      "\n",
      "branch on object 3\n",
      "\n",
      "\n",
      "Node number 10: \n",
      "---------------\n",
      "\n",
      "Max 42 x[1] + 40 x[2] + 12 x[3] + 25 x[4]\n",
      "Subject to\n",
      " 7 x[1] + 4 x[2] + 3 x[3] + 5 x[4] ≤ 10\n",
      " x[1] ≥ 0\n",
      " x[2] ≥ 1\n",
      " x[3] ≥ 1\n",
      " x[4] ≥ 0\n",
      " x[1] ≤ 0\n",
      " x[2] ≤ 1\n",
      " x[3] ≤ 1\n",
      " x[4] ≤ 1\n",
      "\n",
      "Solve the LP model of the current node to compute its bound: start ... ... end\n",
      ": Solution LP 67.0\tx[1]=0.0\tx[2]=1.0\tx[3]=1.0\tx[4]=0.6 \n",
      "\n",
      "Previous Solution memorized [1.0, 0.0, 1.0, 0.0] with bestprofit 54.0\n",
      "\n",
      "non sondable\n",
      "\n",
      "branch on object 4\n",
      "\n",
      "\n",
      "Node number 11: \n",
      "---------------\n",
      "\n",
      "Max 42 x[1] + 40 x[2] + 12 x[3] + 25 x[4]\n",
      "Subject to\n",
      " 7 x[1] + 4 x[2] + 3 x[3] + 5 x[4] ≤ 10\n",
      " x[1] ≥ 0\n",
      " x[2] ≥ 1\n",
      " x[3] ≥ 1\n",
      " x[4] ≥ 1\n",
      " x[1] ≤ 0\n",
      " x[2] ≤ 1\n",
      " x[3] ≤ 1\n",
      " x[4] ≤ 1\n",
      "\n",
      "Solve the LP model of the current node to compute its bound: start ... ... end\n",
      ": Solution LP : NOT AVAILABLE (probably infeasible or ressources limit reached) \n",
      "\n",
      "Previous Solution memorized [1.0, 0.0, 1.0, 0.0] with bestprofit 54.0\n",
      "\n",
      "TA\n",
      "\n",
      "Node number 12: \n",
      "---------------\n",
      "\n",
      "Max 42 x[1] + 40 x[2] + 12 x[3] + 25 x[4]\n",
      "Subject to\n",
      " 7 x[1] + 4 x[2] + 3 x[3] + 5 x[4] ≤ 10\n",
      " x[1] ≥ 0\n",
      " x[2] ≥ 1\n",
      " x[3] ≥ 1\n",
      " x[4] ≥ 0\n",
      " x[1] ≤ 0\n",
      " x[2] ≤ 1\n",
      " x[3] ≤ 1\n",
      " x[4] ≤ 0\n",
      "\n",
      "Solve the LP model of the current node to compute its bound: start ... ... end\n",
      ": Solution LP 52.0\tx[1]=0.0\tx[2]=1.0\tx[3]=1.0\tx[4]=0.0 \n",
      "\n",
      "Previous Solution memorized [1.0, 0.0, 1.0, 0.0] with bestprofit 54.0\n",
      "\n",
      "TO\n",
      "\n",
      "Node number 13: \n",
      "---------------\n",
      "\n",
      "Max 42 x[1] + 40 x[2] + 12 x[3] + 25 x[4]\n",
      "Subject to\n",
      " 7 x[1] + 4 x[2] + 3 x[3] + 5 x[4] ≤ 10\n",
      " x[1] ≥ 0\n",
      " x[2] ≥ 1\n",
      " x[3] ≥ 0\n",
      " x[4] ≥ 0\n",
      " x[1] ≤ 0\n",
      " x[2] ≤ 1\n",
      " x[3] ≤ 0\n",
      " x[4] ≤ 1\n",
      "\n",
      "Solve the LP model of the current node to compute its bound: start ... ... end\n",
      ": Solution LP 65.0\tx[1]=0.0\tx[2]=1.0\tx[3]=0.0\tx[4]=1.0 \n",
      "\n",
      "Previous Solution memorized [1.0, 0.0, 1.0, 0.0] with bestprofit 54.0\n",
      "\n",
      "TR\n",
      "\n",
      "New Solution memorized [0.0, 1.0, 0.0, 1.0] with bestprofit 65.0\n",
      "\n",
      "\n",
      "Node number 14: \n",
      "---------------\n",
      "\n",
      "Max 42 x[1] + 40 x[2] + 12 x[3] + 25 x[4]\n",
      "Subject to\n",
      " 7 x[1] + 4 x[2] + 3 x[3] + 5 x[4] ≤ 10\n",
      " x[1] ≥ 0\n",
      " x[2] ≥ 0\n",
      " x[3] ≥ 0\n",
      " x[4] ≥ 0\n",
      " x[1] ≤ 0\n",
      " x[2] ≤ 0\n",
      " x[3] ≤ 1\n",
      " x[4] ≤ 1\n",
      "\n",
      "Solve the LP model of the current node to compute its bound: start ... ... end\n",
      ": Solution LP 37.0\tx[1]=0.0\tx[2]=0.0\tx[3]=1.0\tx[4]=1.0 \n",
      "\n",
      "Previous Solution memorized [0.0, 1.0, 0.0, 1.0] with bestprofit 65.0\n",
      "\n",
      "TO\n",
      "\n",
      "FINISHED\n",
      "\n",
      "******\n",
      "\n",
      "Optimal value = 65.0\n",
      "\n",
      "Optimal x=[0.0, 1.0, 0.0, 1.0]\n",
      "\n",
      "******\n",
      "\n",
      "Optimal value = 65.0\n",
      "\n",
      "Optimal x=[0.0, 1.0, 0.0, 1.0]\n",
      "\n",
      " Branch-and-bound tree visualization : start display ...\n",
      "... end display. \n",
      "\n"
     ]
    },
    {
     "name": "stdout",
     "output_type": "stream",
     "text": [
      "\n",
      "press enter to exit ! \n"
     ]
    },
    {
     "ename": "UndefVarError",
     "evalue": "UndefVarError: execute_msg not defined",
     "output_type": "error",
     "traceback": [
      "UndefVarError: execute_msg not defined\n",
      "\n",
      "Stacktrace:\n",
      " [1] readprompt(prompt::String; password::Bool)\n",
      "   @ VSCodeServer.IJuliaCore ~/.vscode/extensions/julialang.language-julia-1.60.2/scripts/packages/IJuliaCore/src/stdio.jl:190\n",
      " [2] readprompt\n",
      "   @ ~/.vscode/extensions/julialang.language-julia-1.60.2/scripts/packages/IJuliaCore/src/stdio.jl:188 [inlined]\n",
      " [3] readline(io::VSCodeServer.IJuliaCore.IJuliaStdio{Base.PipeEndpoint, typeof(VSCodeServer.io_send_callback)})\n",
      "   @ VSCodeServer.IJuliaCore ~/.vscode/extensions/julialang.language-julia-1.60.2/scripts/packages/IJuliaCore/src/stdio.jl:232\n",
      " [4] readline()\n",
      "   @ Base ./io.jl:542\n",
      " [5] top-level scope\n",
      "   @ ~/Documents/SN/2A/RO/TP02/NotebookTP2.ipynb:6"
     ]
    }
   ],
   "source": [
    "INSTANCE = \"InstancesKnapSack/test.opb.txt\"\n",
    "\n",
    "solveNdisplayKnap(INSTANCE)\n",
    "\n",
    "println(\"press enter to exit ! \")\n",
    "readline()"
   ]
  },
  {
   "cell_type": "markdown",
   "metadata": {},
   "source": [
    "## Questions préliminaires\n",
    "\n",
    "### Question 1.\n",
    "La règle de séparation choisie est la règle lexicographique, c'est-à-dire que l'on branche sur le premier objet non-fixé en partant de l'objet 1.\n",
    "\n",
    "### Question 2.\n",
    "On trie d'abord  les objets par ratio décroissant et on sélectionne en entier les objets disponible de plus grand ratio pour lesquels la capacité du sac n'est pas dépassée. Dès qu'un objet ne peut plus rentrer entièrement, on n'en prend qu'une fraction permettant de remplir le sac.\n",
    "\n",
    "### Question 3.\n",
    "Le test d'admissibilité (TA) réussit si la capacité du restante du sac est négative. Le test d'optimalité (TO) réussit si la borne supérieure obtenue est moins bonne que la meilleure solution connue. Le test de réalisabilité (TR) réussit si le calcul de la borne supérieure donne des valeurs qui respectent les contraintes aux variables (ici binaire).\n",
    "\n",
    "### Question 4.\n",
    "La stratégie d'exploration est le parcours en profondeur à gauche."
   ]
  }
 ],
 "metadata": {
  "kernelspec": {
   "display_name": "Julia 1.8.2",
   "language": "julia",
   "name": "julia-1.8"
  },
  "language_info": {
   "file_extension": ".jl",
   "mimetype": "application/julia",
   "name": "julia",
   "version": "1.8.2"
  }
 },
 "nbformat": 4,
 "nbformat_minor": 4
}
