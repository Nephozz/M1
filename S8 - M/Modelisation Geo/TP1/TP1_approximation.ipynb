{
 "cells": [
  {
   "cell_type": "markdown",
   "metadata": {},
   "source": [
    "### Imports"
   ]
  },
  {
   "cell_type": "code",
   "execution_count": null,
   "metadata": {},
   "outputs": [],
   "source": [
    "%load_ext autoreload\n",
    "%autoreload 2"
   ]
  },
  {
   "cell_type": "code",
   "execution_count": null,
   "metadata": {},
   "outputs": [],
   "source": [
    "from fonctions_tp1_approximation import *\n",
    "from utils_tp1_approximation import * \n",
    "\n",
    "from mpl_toolkits.mplot3d import Axes3D"
   ]
  },
  {
   "cell_type": "code",
   "execution_count": null,
   "metadata": {},
   "outputs": [],
   "source": [
    "## Nombre de temps à évaluer pour construire les courbes approximantes\n",
    "nb_echantillon = 50\n",
    "## Temps d'avaluation asscoié à chaque échantillon\n",
    "list_t = echantillonnage(nb_ech = nb_echantillon)"
   ]
  },
  {
   "cell_type": "markdown",
   "metadata": {},
   "source": [
    "## Polynômes de Bernstein"
   ]
  },
  {
   "cell_type": "code",
   "execution_count": null,
   "metadata": {},
   "outputs": [],
   "source": [
    "degre_max = 5\n",
    "\n",
    "# Base des polynomes de Bernstein\n",
    "base = build_polys_bernstein(degre_max, list_t)\n",
    "\n",
    "## Affichage\n",
    "for i in range(len(base)):\n",
    "    courbe_i = base[i]\n",
    "    plt.plot(courbe_i[:,0], courbe_i[:,1], color=liste_couleurs[i % len(liste_couleurs)], label=f'k = {i}')\n",
    "\n",
    "plt.legend()\n",
    "plt.xlabel('t')\n",
    "plt.ylabel('Valeur du polynôme de Bernstein')\n",
    "plt.title('Polynômes de Bernstein')\n",
    "plt.show()"
   ]
  },
  {
   "cell_type": "markdown",
   "metadata": {},
   "source": [
    "## DeCasteljau Evaluation"
   ]
  },
  {
   "cell_type": "code",
   "execution_count": null,
   "metadata": {},
   "outputs": [],
   "source": [
    "## Points de contrôle initiaux \n",
    "nb_pts_controle = 6\n",
    "X_pts_controles,Y_pts_controles = generate_points(nb_pts_controle)\n",
    "\n",
    "liste_points = []\n",
    "for tt in list_t:\n",
    "    # Approximation des abscisses\n",
    "    x = DeCasteljau(X_pts_controles, tt)\n",
    "    # Approximation des ordonnées\n",
    "    y = DeCasteljau(Y_pts_controles, tt)\n",
    "    liste_points.append([x,y])\n",
    "\n",
    "points = np.array(liste_points)\n",
    "plt.plot(points[:,0], points[:,1])\n",
    "plt.plot(X_pts_controles, Y_pts_controles, color='red', marker='o', linestyle='--', linewidth=0.5)  \n",
    "plt.scatter(X_pts_controles, Y_pts_controles)\n",
    "plt.legend()\n",
    "plt.title('Approximation De Casteljau')\n",
    "plt.show()"
   ]
  },
  {
   "cell_type": "markdown",
   "metadata": {},
   "source": [
    "## DeCasteljau Subdivision\n",
    "Une étape de subdivision : {Pi} --> {Qj} et {Rk}"
   ]
  },
  {
   "cell_type": "code",
   "execution_count": null,
   "metadata": {},
   "outputs": [],
   "source": [
    "## Points  de contrôle initiaux \n",
    "nb_pts_controle = 5\n",
    "X_pts_controles,Y_pts_controles = generate_points(nb_pts_controle)\n",
    "\n",
    "## Subdivision\n",
    "QX, QY, RX, RY = subdivision(X_pts_controles, Y_pts_controles)\n",
    "points = np.array(liste_points)\n",
    "\n",
    "## Courbe \n",
    "liste_points = []\n",
    "for tt in list_t:\n",
    "    x = DeCasteljau(X_pts_controles, tt); \n",
    "    y = DeCasteljau(Y_pts_controles, tt)\n",
    "    liste_points.append([x,y])\n",
    "points_sub = np.array(liste_points)\n",
    "\n",
    "## Points de controle initiaux\n",
    "plt.plot(X_pts_controles, Y_pts_controles, color='red', marker='o', linestyle='--', linewidth=0.5) \n",
    "plt.scatter(X_pts_controles, Y_pts_controles)\n",
    "## Points de controle de gauche sur [0,1/2]\n",
    "plt.plot(QX, QY, color='magenta', marker='o', linestyle='--', linewidth=0.5) \n",
    "plt.scatter(QX, QY)\n",
    "## Points de controle de droite sur [1/2,1]\n",
    "plt.plot(RX, RY, color='green', marker='o', linestyle='--', linewidth=0.5) \n",
    "plt.scatter(RX, RY)\n",
    "## Courbes \n",
    "plt.plot(points_sub[:,0], points_sub[:,1])\n",
    "plt.legend()\n",
    "plt.xlabel('t')\n",
    "plt.title('Approximation DeCasteljau')\n",
    "plt.show()\n"
   ]
  },
  {
   "cell_type": "markdown",
   "metadata": {},
   "source": [
    "Appel récursif pour réaliser n subdivision"
   ]
  },
  {
   "cell_type": "code",
   "execution_count": null,
   "metadata": {},
   "outputs": [],
   "source": [
    "## Points  de contrôle initiaux \n",
    "nb_pts_controle = 5\n",
    "X_pts_controles,Y_pts_controles = generate_points(nb_pts_controle)\n",
    "nb_subdivision = 10\n",
    "\n",
    "\n",
    "(X_subdivision, Ysubdivision) = DeCasteljauSub(X_pts_controles, Y_pts_controles, nb_subdivision)\n",
    "arr_points = np.zeros((len(X_subdivision),2))\n",
    "\n",
    "for i in range(len(X_subdivision)):\n",
    "    arr_points[i,:] = [X_subdivision[i], Ysubdivision[i]]\n",
    "\n",
    "plt.plot(arr_points[:,0], arr_points[:,1])\n",
    "plt.plot(X_pts_controles, Y_pts_controles, color='red', marker='o', linestyle='--', linewidth=0.5) \n",
    "plt.scatter(X_pts_controles, Y_pts_controles)\n",
    "plt.legend()\n",
    "plt.xlabel('t')\n",
    "plt.title('Approximation DeCasteljau Subdivision')\n",
    "plt.show()\n"
   ]
  },
  {
   "cell_type": "markdown",
   "metadata": {},
   "source": [
    "## Surface de Bezier en produit tensoriel"
   ]
  },
  {
   "cell_type": "code",
   "execution_count": null,
   "metadata": {},
   "outputs": [],
   "source": [
    "# Générer une grille de points de contrôle régulière\n",
    "nb_point_grille = 6\n",
    "X, Y = np.meshgrid(np.linspace(0, 1, nb_point_grille), np.linspace(0, 1, nb_point_grille))\n",
    "Z = np.exp(-((X-0.5)**2  + (Y-0.5)**2))\n",
    "\n",
    "\n",
    "# Paramétrisation \n",
    "nb_echantillon_surface = 10\n",
    "cc = echantillonnage(nb_ech = nb_echantillon)\n",
    "\n",
    "# Interpoler la surface\n",
    "approx_surface = approximation_surface(X, Y, Z, list_t, nb_point_grille)\n",
    "\n",
    "print(approx_surface.shape)\n",
    "# Visualisation\n",
    "show_surface(X, Y, Z, approx_surface)"
   ]
  },
  {
   "cell_type": "code",
   "execution_count": null,
   "metadata": {},
   "outputs": [],
   "source": []
  }
 ],
 "metadata": {
  "kernelspec": {
   "display_name": "env_ModelGeo",
   "language": "python",
   "name": "python3"
  },
  "language_info": {
   "codemirror_mode": {
    "name": "ipython",
    "version": 3
   },
   "file_extension": ".py",
   "mimetype": "text/x-python",
   "name": "python",
   "nbconvert_exporter": "python",
   "pygments_lexer": "ipython3",
   "version": "3.8.18"
  }
 },
 "nbformat": 4,
 "nbformat_minor": 2
}
